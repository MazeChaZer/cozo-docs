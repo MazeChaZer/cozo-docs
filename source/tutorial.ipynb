{
 "cells": [
  {
   "cell_type": "markdown",
   "metadata": {},
   "source": [
    "# Tutorial\n",
    "\n",
    "This tutorial will teach you the basics of using the Cozo database.\n",
    "\n",
    "There are several ways you can run the queries in this tutorial:\n",
    "\n",
    "* You can run the examples in your browser without installing anything: just open [Cozo in Wasm](https://www.cozodb.org/wasm-demo/)\n",
    "and you are ready to go.\n",
    "* You can download the appropriate `cozo-*` executable for your operating system from the [release page](https://github.com/cozodb/cozo/releases), uncompress, rename to `cozo`, and run the REPL mode by running in a terminal `cozo repl` and follow along.\n",
    "* If you are familiar with the Python datascience stack, you should following the instruction [here](https://github.com/cozodb/pycozo) instead to run this notebook in Jupyter Lab, with the [notebook file](https://github.com/cozodb/cozo-docs/blob/main/source/tutorial.ipynb).\n",
    "* There are [many other ways](https://github.com/cozodb/cozo#Install), but the above ones are the easiest.\n",
    "\n",
    "The following cell is to set up Jupyter. Ignore if you are using other methods."
   ],
   "id": "a05a7cc91b954ced"
  },
  {
   "cell_type": "code",
   "execution_count": 2,
   "metadata": {
    "ExecuteTime": {
     "end_time": "2023-08-30T03:59:29.741723Z",
     "start_time": "2023-08-30T03:59:23.921109Z"
    }
   },
   "outputs": [
    {
     "ename": "ImportError",
     "evalue": "No module named pycozo.ipyext_direct",
     "output_type": "error",
     "traceback": [
      "\u001B[0;31m\u001B[0m",
      "\u001B[0;31mImportError\u001B[0mTraceback (most recent call last)",
      "\u001B[0;32m<ipython-input-2-84c6e3a539ef>\u001B[0m in \u001B[0;36m<module>\u001B[0;34m()\u001B[0m\n\u001B[0;32m----> 1\u001B[0;31m \u001B[0mget_ipython\u001B[0m\u001B[0;34m(\u001B[0m\u001B[0;34m)\u001B[0m\u001B[0;34m.\u001B[0m\u001B[0mmagic\u001B[0m\u001B[0;34m(\u001B[0m\u001B[0;34mu'load_ext pycozo.ipyext_direct'\u001B[0m\u001B[0;34m)\u001B[0m\u001B[0;34m\u001B[0m\u001B[0m\n\u001B[0m",
      "\u001B[0;32m/Users/gisborne/.pyenv/versions/2.7.18/lib/python2.7/site-packages/IPython/core/interactiveshell.pyc\u001B[0m in \u001B[0;36mmagic\u001B[0;34m(self, arg_s)\u001B[0m\n\u001B[1;32m   2158\u001B[0m         \u001B[0mmagic_name\u001B[0m\u001B[0;34m,\u001B[0m \u001B[0m_\u001B[0m\u001B[0;34m,\u001B[0m \u001B[0mmagic_arg_s\u001B[0m \u001B[0;34m=\u001B[0m \u001B[0marg_s\u001B[0m\u001B[0;34m.\u001B[0m\u001B[0mpartition\u001B[0m\u001B[0;34m(\u001B[0m\u001B[0;34m' '\u001B[0m\u001B[0;34m)\u001B[0m\u001B[0;34m\u001B[0m\u001B[0m\n\u001B[1;32m   2159\u001B[0m         \u001B[0mmagic_name\u001B[0m \u001B[0;34m=\u001B[0m \u001B[0mmagic_name\u001B[0m\u001B[0;34m.\u001B[0m\u001B[0mlstrip\u001B[0m\u001B[0;34m(\u001B[0m\u001B[0mprefilter\u001B[0m\u001B[0;34m.\u001B[0m\u001B[0mESC_MAGIC\u001B[0m\u001B[0;34m)\u001B[0m\u001B[0;34m\u001B[0m\u001B[0m\n\u001B[0;32m-> 2160\u001B[0;31m         \u001B[0;32mreturn\u001B[0m \u001B[0mself\u001B[0m\u001B[0;34m.\u001B[0m\u001B[0mrun_line_magic\u001B[0m\u001B[0;34m(\u001B[0m\u001B[0mmagic_name\u001B[0m\u001B[0;34m,\u001B[0m \u001B[0mmagic_arg_s\u001B[0m\u001B[0;34m)\u001B[0m\u001B[0;34m\u001B[0m\u001B[0m\n\u001B[0m\u001B[1;32m   2161\u001B[0m \u001B[0;34m\u001B[0m\u001B[0m\n\u001B[1;32m   2162\u001B[0m     \u001B[0;31m#-------------------------------------------------------------------------\u001B[0m\u001B[0;34m\u001B[0m\u001B[0;34m\u001B[0m\u001B[0m\n",
      "\u001B[0;32m/Users/gisborne/.pyenv/versions/2.7.18/lib/python2.7/site-packages/IPython/core/interactiveshell.pyc\u001B[0m in \u001B[0;36mrun_line_magic\u001B[0;34m(self, magic_name, line)\u001B[0m\n\u001B[1;32m   2079\u001B[0m                 \u001B[0mkwargs\u001B[0m\u001B[0;34m[\u001B[0m\u001B[0;34m'local_ns'\u001B[0m\u001B[0;34m]\u001B[0m \u001B[0;34m=\u001B[0m \u001B[0msys\u001B[0m\u001B[0;34m.\u001B[0m\u001B[0m_getframe\u001B[0m\u001B[0;34m(\u001B[0m\u001B[0mstack_depth\u001B[0m\u001B[0;34m)\u001B[0m\u001B[0;34m.\u001B[0m\u001B[0mf_locals\u001B[0m\u001B[0;34m\u001B[0m\u001B[0m\n\u001B[1;32m   2080\u001B[0m             \u001B[0;32mwith\u001B[0m \u001B[0mself\u001B[0m\u001B[0;34m.\u001B[0m\u001B[0mbuiltin_trap\u001B[0m\u001B[0;34m:\u001B[0m\u001B[0;34m\u001B[0m\u001B[0m\n\u001B[0;32m-> 2081\u001B[0;31m                 \u001B[0mresult\u001B[0m \u001B[0;34m=\u001B[0m \u001B[0mfn\u001B[0m\u001B[0;34m(\u001B[0m\u001B[0;34m*\u001B[0m\u001B[0margs\u001B[0m\u001B[0;34m,\u001B[0m\u001B[0;34m**\u001B[0m\u001B[0mkwargs\u001B[0m\u001B[0;34m)\u001B[0m\u001B[0;34m\u001B[0m\u001B[0m\n\u001B[0m\u001B[1;32m   2082\u001B[0m             \u001B[0;32mreturn\u001B[0m \u001B[0mresult\u001B[0m\u001B[0;34m\u001B[0m\u001B[0m\n\u001B[1;32m   2083\u001B[0m \u001B[0;34m\u001B[0m\u001B[0m\n",
      "\u001B[0;32m<decorator-gen-63>\u001B[0m in \u001B[0;36mload_ext\u001B[0;34m(self, module_str)\u001B[0m\n",
      "\u001B[0;32m/Users/gisborne/.pyenv/versions/2.7.18/lib/python2.7/site-packages/IPython/core/magic.pyc\u001B[0m in \u001B[0;36m<lambda>\u001B[0;34m(f, *a, **k)\u001B[0m\n\u001B[1;32m    186\u001B[0m     \u001B[0;31m# but it's overkill for just that one bit of state.\u001B[0m\u001B[0;34m\u001B[0m\u001B[0;34m\u001B[0m\u001B[0m\n\u001B[1;32m    187\u001B[0m     \u001B[0;32mdef\u001B[0m \u001B[0mmagic_deco\u001B[0m\u001B[0;34m(\u001B[0m\u001B[0marg\u001B[0m\u001B[0;34m)\u001B[0m\u001B[0;34m:\u001B[0m\u001B[0;34m\u001B[0m\u001B[0m\n\u001B[0;32m--> 188\u001B[0;31m         \u001B[0mcall\u001B[0m \u001B[0;34m=\u001B[0m \u001B[0;32mlambda\u001B[0m \u001B[0mf\u001B[0m\u001B[0;34m,\u001B[0m \u001B[0;34m*\u001B[0m\u001B[0ma\u001B[0m\u001B[0;34m,\u001B[0m \u001B[0;34m**\u001B[0m\u001B[0mk\u001B[0m\u001B[0;34m:\u001B[0m \u001B[0mf\u001B[0m\u001B[0;34m(\u001B[0m\u001B[0;34m*\u001B[0m\u001B[0ma\u001B[0m\u001B[0;34m,\u001B[0m \u001B[0;34m**\u001B[0m\u001B[0mk\u001B[0m\u001B[0;34m)\u001B[0m\u001B[0;34m\u001B[0m\u001B[0m\n\u001B[0m\u001B[1;32m    189\u001B[0m \u001B[0;34m\u001B[0m\u001B[0m\n\u001B[1;32m    190\u001B[0m         \u001B[0;32mif\u001B[0m \u001B[0mcallable\u001B[0m\u001B[0;34m(\u001B[0m\u001B[0marg\u001B[0m\u001B[0;34m)\u001B[0m\u001B[0;34m:\u001B[0m\u001B[0;34m\u001B[0m\u001B[0m\n",
      "\u001B[0;32m/Users/gisborne/.pyenv/versions/2.7.18/lib/python2.7/site-packages/IPython/core/magics/extension.pyc\u001B[0m in \u001B[0;36mload_ext\u001B[0;34m(self, module_str)\u001B[0m\n\u001B[1;32m     35\u001B[0m         \u001B[0;32mif\u001B[0m \u001B[0;32mnot\u001B[0m \u001B[0mmodule_str\u001B[0m\u001B[0;34m:\u001B[0m\u001B[0;34m\u001B[0m\u001B[0m\n\u001B[1;32m     36\u001B[0m             \u001B[0;32mraise\u001B[0m \u001B[0mUsageError\u001B[0m\u001B[0;34m(\u001B[0m\u001B[0;34m'Missing module name.'\u001B[0m\u001B[0;34m)\u001B[0m\u001B[0;34m\u001B[0m\u001B[0m\n\u001B[0;32m---> 37\u001B[0;31m         \u001B[0mres\u001B[0m \u001B[0;34m=\u001B[0m \u001B[0mself\u001B[0m\u001B[0;34m.\u001B[0m\u001B[0mshell\u001B[0m\u001B[0;34m.\u001B[0m\u001B[0mextension_manager\u001B[0m\u001B[0;34m.\u001B[0m\u001B[0mload_extension\u001B[0m\u001B[0;34m(\u001B[0m\u001B[0mmodule_str\u001B[0m\u001B[0;34m)\u001B[0m\u001B[0;34m\u001B[0m\u001B[0m\n\u001B[0m\u001B[1;32m     38\u001B[0m \u001B[0;34m\u001B[0m\u001B[0m\n\u001B[1;32m     39\u001B[0m         \u001B[0;32mif\u001B[0m \u001B[0mres\u001B[0m \u001B[0;34m==\u001B[0m \u001B[0;34m'already loaded'\u001B[0m\u001B[0;34m:\u001B[0m\u001B[0;34m\u001B[0m\u001B[0m\n",
      "\u001B[0;32m/Users/gisborne/.pyenv/versions/2.7.18/lib/python2.7/site-packages/IPython/core/extensions.pyc\u001B[0m in \u001B[0;36mload_extension\u001B[0;34m(self, module_str)\u001B[0m\n\u001B[1;32m     81\u001B[0m             \u001B[0;32mif\u001B[0m \u001B[0mmodule_str\u001B[0m \u001B[0;32mnot\u001B[0m \u001B[0;32min\u001B[0m \u001B[0msys\u001B[0m\u001B[0;34m.\u001B[0m\u001B[0mmodules\u001B[0m\u001B[0;34m:\u001B[0m\u001B[0;34m\u001B[0m\u001B[0m\n\u001B[1;32m     82\u001B[0m                 \u001B[0;32mwith\u001B[0m \u001B[0mprepended_to_syspath\u001B[0m\u001B[0;34m(\u001B[0m\u001B[0mself\u001B[0m\u001B[0;34m.\u001B[0m\u001B[0mipython_extension_dir\u001B[0m\u001B[0;34m)\u001B[0m\u001B[0;34m:\u001B[0m\u001B[0;34m\u001B[0m\u001B[0m\n\u001B[0;32m---> 83\u001B[0;31m                     \u001B[0m__import__\u001B[0m\u001B[0;34m(\u001B[0m\u001B[0mmodule_str\u001B[0m\u001B[0;34m)\u001B[0m\u001B[0;34m\u001B[0m\u001B[0m\n\u001B[0m\u001B[1;32m     84\u001B[0m             \u001B[0mmod\u001B[0m \u001B[0;34m=\u001B[0m \u001B[0msys\u001B[0m\u001B[0;34m.\u001B[0m\u001B[0mmodules\u001B[0m\u001B[0;34m[\u001B[0m\u001B[0mmodule_str\u001B[0m\u001B[0;34m]\u001B[0m\u001B[0;34m\u001B[0m\u001B[0m\n\u001B[1;32m     85\u001B[0m             \u001B[0;32mif\u001B[0m \u001B[0mself\u001B[0m\u001B[0;34m.\u001B[0m\u001B[0m_call_load_ipython_extension\u001B[0m\u001B[0;34m(\u001B[0m\u001B[0mmod\u001B[0m\u001B[0;34m)\u001B[0m\u001B[0;34m:\u001B[0m\u001B[0;34m\u001B[0m\u001B[0m\n",
      "\u001B[0;31mImportError\u001B[0m: No module named pycozo.ipyext_direct"
     ]
    }
   ],
   "source": [
    "%load_ext pycozo.ipyext_direct"
   ],
   "id": "7b97d7025a0a01ff"
  },
  {
   "cell_type": "markdown",
   "metadata": {},
   "source": [
    "## Introduction\n",
    "\n",
    "Datalog is pattern matching for your data.\n",
    "\n",
    "This sort of thing (Ruby):\n",
    "\n",
    "```\n",
    "config = {db: {user: 'admin', password: 'abc123'}}\n",
    "\n",
    "case config\n",
    "in db: {user:} # matches subhash and puts matched value in variable user\n",
    "  puts \"Connect with user '#{user}'\"\n",
    "in connection: {username: }\n",
    "  puts \"Connect with user '#{username}'\"\n",
    "else\n",
    "  puts \"Unrecognized structure of config\"\n",
    "end\n",
    "# Prints: \"Connect with user 'admin'\"\n",
    "```\n",
    "Broadly speaking, you provide some values and variables that constitute a pattern for pulling apart some data structure. The matching simultaneously chooses an execution path and gets values of the variables that match out of the data structure.\n",
    "\n",
    "## First steps\n",
    "\n",
    "Cozo is a relational database. Relations are similar to tables in SQL. The difference is that you can't have duplicate rows in a relation.\n",
    "\n",
    "You can define and then retrieve all the rows from a relation in Cozo like this:"
   ],
   "id": "c46ae65855a49be3"
  },
  {
   "cell_type": "code",
   "execution_count": null,
   "metadata": {
    "ExecuteTime": {
     "start_time": "2023-08-30T03:59:23.947945Z"
    },
    "collapsed": false
   },
   "outputs": [],
   "source": [],
   "id": "8cb8fe3e70e518fe"
  },
  {
   "cell_type": "code",
   "execution_count": null,
   "metadata": {
    "ExecuteTime": {
     "start_time": "2023-08-30T03:55:39.347857Z"
    }
   },
   "outputs": [],
   "source": [
    "?[] <- [['hello', 'world', 'Cozo!']]"
   ],
   "id": "82d288613dd0dea4"
  },
  {
   "cell_type": "markdown",
   "metadata": {
    "ExecuteTime": {
     "start_time": "2023-08-30T03:59:23.949639Z"
    }
   },
   "source": [
    "This is a _rule_. The <- separates the _head_ of the rule on the left from the _body_ on the right. The `[] <-` acts like `SELECT *` in SQL. The above query in SQL would look something like:\n",
    "\n",
    "```\n",
    "SELECT * FROM (VALUES(‘hello’, ‘world’, ‘sql’)) as unnecessary_alias;\n",
    "```\n",
    "\n",
    "(a hint here of Datalog’s freedom from the endless ceremony that plagues SQL)\n",
    "\n",
    "You can have multiple rows:"
   ],
   "id": "542eee2c7acd56d1"
  },
  {
   "cell_type": "code",
   "execution_count": null,
   "metadata": {
    "ExecuteTime": {
     "start_time": "2023-08-30T03:55:39.348572Z"
    }
   },
   "outputs": [],
   "source": [
    "?[] <- [[1, 2, 3], ['a', 'b', 'c']]"
   ],
   "id": "3779596f5764e576"
  },
  {
   "cell_type": "markdown",
   "metadata": {
    "ExecuteTime": {
     "start_time": "2023-08-30T03:59:23.962924Z"
    }
   },
   "source": [
    "You can have the usual sorts of types:"
   ],
   "id": "8ac08608649319af"
  },
  {
   "cell_type": "code",
   "execution_count": null,
   "metadata": {
    "ExecuteTime": {
     "start_time": "2023-08-30T03:55:39.349212Z"
    }
   },
   "outputs": [],
   "source": [
    "?[] <- [[1.5, 2.5, 3, 4, 5.5], \n",
    "        ['aA', 'bB', 'cC', 'dD', 'eE'], \n",
    "        [true, false, null, -1.4e-2, \"A string with double quotes\"]]"
   ],
   "id": "9afee258ccddb2a4"
  },
  {
   "cell_type": "markdown",
   "metadata": {
    "ExecuteTime": {
     "start_time": "2023-08-30T03:59:23.983013Z"
    }
   },
   "source": [
    "The input literal representations are similar to those in JavaScript. \n",
    "In particular, strings in double quotes are guaranteed to be interpreted in the same way as in JSON.\n",
    "The output are in JSON, but how they appear on your screen depends on your setup.\n",
    "For example, if you are using a Python setup, booleans are displayed as `True` and `False` instead of in lowercase,\n",
    "since they are converted to the native Python datatypes for display.\n",
    "\n",
    "In the last example, you may have noticed that the returned order is not the same as the input order.\n",
    "This is because in Cozo relations are always stored as trees, and trees are always sorted.\n",
    "\n",
    "Another consequence of relations as trees is that you can have no duplicate rows:"
   ],
   "id": "40f28d747eacc579"
  },
  {
   "cell_type": "code",
   "execution_count": null,
   "metadata": {
    "ExecuteTime": {
     "start_time": "2023-08-30T03:55:39.349964Z"
    }
   },
   "outputs": [],
   "source": [
    "?[] <- [[1], [2], [1], [2], [1]]"
   ],
   "id": "f3bf6ca99cf75212"
  },
  {
   "cell_type": "markdown",
   "metadata": {
    "ExecuteTime": {
     "start_time": "2023-08-30T03:59:23.996195Z"
    }
   },
   "source": [
    "### Expressions\n",
    "\n",
    "The next example shows the use of various functions, expressions and comments:"
   ],
   "id": "3dae1bd53a02a938"
  },
  {
   "cell_type": "code",
   "execution_count": null,
   "metadata": {
    "ExecuteTime": {
     "start_time": "2023-08-30T03:55:39.350775Z"
    }
   },
   "outputs": [],
   "source": [
    "?[] <- [[\n",
    "            1 + 2, # addition\n",
    "            3 / 4, # division\n",
    "            5 == 6, # equality\n",
    "            7 > 8, # greater\n",
    "            true || false, # or\n",
    "            false && true, # and\n",
    "            lowercase('HELLO'), # function\n",
    "            rand_float(), # function taking no argument\n",
    "            union([1, 2, 3], [3, 4, 5], [5, 6, 7]), # variadic function\n",
    "        ]]"
   ],
   "id": "a2078585afa8aff3"
  },
  {
   "cell_type": "markdown",
   "metadata": {
    "ExecuteTime": {
     "start_time": "2023-08-30T03:59:24.009402Z"
    }
   },
   "source": [
    "Cozo has a pretty robust set of [built-in functions and operators](functions.rst).\n",
    "\n",
    "## Find values for these variables\n",
    "\n",
    "More complex queries proceed by providing some expressions with values and variables, much like pattern matching in your favourite language.\n",
    "\n",
    "Cozo tries to find all the sets of rows that match the given values, including values for the variables that also match across all the expressions. Some examples will make this clearer."
   ],
   "id": "22e32e6082117797"
  },
  {
   "cell_type": "code",
   "execution_count": null,
   "metadata": {
    "ExecuteTime": {
     "start_time": "2023-08-30T03:55:39.352170Z"
    }
   },
   "outputs": [],
   "source": [
    "?[first, second, third] <- [[1, 2, 3], ['a', 'b', 'c']]"
   ],
   "id": "ac460af3889440e"
  },
  {
   "cell_type": "markdown",
   "metadata": {
    "ExecuteTime": {
     "start_time": "2023-08-30T03:59:24.022843Z"
    }
   },
   "source": [
    "Here, we’ve just provided named variables for the values coming back.\n",
    "\n",
    "Note that you have to do obvious things, like not having different numbers of columns within one relation. Typing can be strict or loose as you choose (so far, it’s all been loose; we’ll see examples of strict typing shortly).\n",
    "\n",
    "For `<-` (called _constant_) rules, the number of bindings must match the actual data (the _arity_), otherwise, you will get an error:"
   ],
   "id": "b45e8c5842d01e56"
  },
  {
   "cell_type": "code",
   "execution_count": null,
   "metadata": {
    "ExecuteTime": {
     "start_time": "2023-08-30T03:55:39.353062Z"
    }
   },
   "outputs": [],
   "source": [
    "?[first, second] <- [[1, 2, 3], ['a', 'b', 'c']]"
   ],
   "id": "21b7ed42b852a41c"
  },
  {
   "cell_type": "markdown",
   "metadata": {
    "ExecuteTime": {
     "start_time": "2023-08-30T03:59:24.037844Z"
    }
   },
   "source": [
    "Now let's define rules that _apply_ (use) other rules:"
   ],
   "id": "481eccf9cea9c6d5"
  },
  {
   "cell_type": "code",
   "execution_count": null,
   "metadata": {
    "ExecuteTime": {
     "start_time": "2023-08-30T03:55:39.353863Z"
    }
   },
   "outputs": [],
   "source": [
    "rule[first, second, third] <- [[1, 2, 3], ['a', 'b', 'c']]\n",
    "?[a, b, c] := rule[a, b, c]"
   ],
   "id": "a34830ecbbf00540"
  },
  {
   "cell_type": "markdown",
   "metadata": {
    "ExecuteTime": {
     "start_time": "2023-08-30T03:59:24.053198Z"
    }
   },
   "source": [
    "You’ll notice the two different connectors. The first, `<-`, is actually syntactic sugar for `<~`, which is used for invoking functions on the right hand side (as well as Cozo's many built-in functions, you can write your own in the host language). `<-` is invoking a Constant function that looks like `rule[first, second, third] <~ Constant(data: [[1, 2, 3], ['a', 'b', 'c']])` `<-` and `<~` rules are called _constant rules_.\n",
    "\n",
    "The second rule is an _inline_ rule, meaning it’s not invoking anything external to the database; it’s just matching data. Note that because it is named `?`, it is the _result_ of the query.\n",
    "\n",
    "Note how in the second line, we match a, b, c to the first, second, third in the first rule.\n",
    "\n",
    "We don’t have to use all the variables from the body in an inline rule:"
   ],
   "id": "860ae2d6a9ca9bfe"
  },
  {
   "cell_type": "code",
   "execution_count": null,
   "metadata": {
    "ExecuteTime": {
     "start_time": "2023-08-30T03:55:39.354552Z"
    }
   },
   "outputs": [],
   "source": [
    "rule[first, second, third] <- [[1, 2, 3], ['a', 'b', 'c']]\n",
    "?[c, b] := rule[a, b, c]"
   ],
   "id": "d0e636e4f5fd38f9"
  },
  {
   "cell_type": "markdown",
   "metadata": {
    "ExecuteTime": {
     "start_time": "2023-08-30T03:59:24.066928Z"
    }
   },
   "source": [
    "Let's get a bit fancier:"
   ],
   "id": "b70e009c5693a672"
  },
  {
   "cell_type": "code",
   "execution_count": null,
   "metadata": {
    "ExecuteTime": {
     "start_time": "2023-08-30T03:55:39.355189Z"
    }
   },
   "outputs": [],
   "source": [
    "?[c, b] := rule[a, b, c], is_num(a)\n",
    "rule[first, second, third] <- [[1, 2, 3], ['a', 'b', 'c']]"
   ],
   "id": "37e45402437ad1dc"
  },
  {
   "cell_type": "markdown",
   "metadata": {
    "ExecuteTime": {
     "start_time": "2023-08-30T03:59:24.081616Z"
    }
   },
   "source": [
    "Here, the first rule had multiple bodies, separated by commas. These are effectively joined by _and_. We see here how the variable `a` matches with a value from the database, but _also_ has to return _true_ when passed to the _is_num_ function.\n",
    "\n",
    "You can also bind constants to rule applications directly:"
   ],
   "id": "af4061a144d20fa9"
  },
  {
   "cell_type": "code",
   "execution_count": null,
   "metadata": {
    "ExecuteTime": {
     "start_time": "2023-08-30T03:55:39.355858Z"
    }
   },
   "outputs": [],
   "source": [
    "rule[first, second, third] <- [[1, 2, 3], ['a', 'b', 'c']]\n",
    "?[c, b] := rule['a', b, c]"
   ],
   "id": "339b640b07df0b4b"
  },
  {
   "cell_type": "markdown",
   "metadata": {},
   "source": [
    "The pattern in the head on the second line matches only rows with an 'a' for the first field value.\n",
    "\n",
    "You can have multiple rules with the same _head_ name, which is like joining their bodies with `OR`."
   ],
   "id": "ee05c04775583319"
  },
  {
   "cell_type": "markdown",
   "metadata": {},
   "source": [
    "```\n",
    "important[a] := recent[a], unread[a], not deleted[a]\n",
    "important[a] := flagged[a], not deleted[a]\n",
    "```\n",
    "\n",
    "This means _a_ is important if it isn’t deleted, and it’s either flagged, or recent and unread. You can also use 'and', 'or', 'not' and parentheses, although the style above is more idiomatic."
   ],
   "id": "9cbbb9a71c798d6a"
  },
  {
   "cell_type": "markdown",
   "metadata": {
    "ExecuteTime": {
     "start_time": "2023-08-30T03:59:24.127249Z"
    }
   },
   "source": [
    "We can just directly set a value as part of the query, using '=':"
   ],
   "id": "e803d96b6d50b025"
  },
  {
   "cell_type": "code",
   "execution_count": null,
   "metadata": {
    "ExecuteTime": {
     "start_time": "2023-08-30T03:55:39.356712Z"
    }
   },
   "outputs": [],
   "source": [
    "rule[first, second, third] <- [[1, 2, 3], ['a', 'b', 'c']]\n",
    "?[c, b, d] := rule[a, b, c], is_num(a), d = a + b + 2*c"
   ],
   "id": "ddb2d6d7281bec81"
  },
  {
   "cell_type": "markdown",
   "metadata": {
    "ExecuteTime": {
     "start_time": "2023-08-30T03:59:24.143212Z"
    }
   },
   "source": [
    "The unification `=` unifies with a single value. Use `in` to unify with each value within a list in turn:"
   ],
   "id": "d4fa5b9b321f769f"
  },
  {
   "cell_type": "code",
   "execution_count": null,
   "metadata": {
    "ExecuteTime": {
     "start_time": "2023-08-30T03:55:39.357547Z"
    },
    "collapsed": false
   },
   "outputs": [],
   "source": [
    "?[x, y] := x in [1, 2, 3], y in ['x', 'y']"
   ],
   "id": "96b4de4efd7dd610"
  },
  {
   "cell_type": "markdown",
   "metadata": {
    "ExecuteTime": {
     "start_time": "2023-08-30T03:59:24.159841Z"
    }
   },
   "source": [
    "\n",
    "Having multiple rule applications in the body generates every combination of the bindings:"
   ],
   "id": "d7afd92edef29c48"
  },
  {
   "cell_type": "code",
   "execution_count": null,
   "metadata": {
    "ExecuteTime": {
     "start_time": "2023-08-30T03:55:39.358221Z"
    }
   },
   "outputs": [],
   "source": [
    "r1[] <- [[1, 'a'], [2, 'b']]\n",
    "r2[] <- [[2, 'B'], [3, 'C']]\n",
    "\n",
    "?[l1, l2] := r1[a, l1], \n",
    "             r2[b, l2]"
   ],
   "id": "d8177f7b76fe7cbc"
  },
  {
   "cell_type": "markdown",
   "metadata": {
    "ExecuteTime": {
     "start_time": "2023-08-30T03:59:24.174049Z"
    }
   },
   "source": [
    "This is a cross join in SQL\n",
    "\n",
    "We’ve now seen enough of the basics to start looking at some more complex operations.\n",
    "\n",
    "## Joins, made easy"
   ],
   "id": "2eb09308fec42895"
  },
  {
   "cell_type": "code",
   "execution_count": null,
   "metadata": {
    "ExecuteTime": {
     "start_time": "2023-08-30T03:55:39.359060Z"
    }
   },
   "outputs": [],
   "source": [
    "r1[] <- [[1, 'a'], [2, 'b']]\n",
    "r2[] <- [[2, 'B'], [3, 'C']]\n",
    "\n",
    "?[l1, l2] := r1[a, l1], \n",
    "             r2[a, l2] # reused `a`"
   ],
   "id": "cf136de087b8f03b"
  },
  {
   "cell_type": "markdown",
   "metadata": {
    "ExecuteTime": {
     "start_time": "2023-08-30T03:59:24.187918Z"
    }
   },
   "source": [
    "A join is as simple as using the same variable in different relations. Here, we are asking for a single value of `a` that matches a row in each of the sources at the same time.\n",
    "\n",
    "Compare the above with the SQL for the same operation:\n",
    "\n",
    "```\n",
    "WITH\n",
    "\tr1 AS SELECT * FROM (VALUES (1, ‘a’), (2, ‘b’)) as t(c1, c2),\n",
    "\tr2 AS SELECT * FROM (VALUES(2, ‘B’), (3, ‘C’)) as u(d1, d2)\n",
    "SELECT\n",
    "\tr1.c2, r2.d2 FROM r1 JOIN r2 ON (r1.c1 = r2.c2);\n",
    "```\n",
    "\n",
    "An outer join is done by considering the cases separately:"
   ],
   "id": "629c111310a1612c"
  },
  {
   "cell_type": "code",
   "execution_count": null,
   "metadata": {
    "ExecuteTime": {
     "start_time": "2023-08-30T03:55:39.359599Z"
    },
    "collapsed": false
   },
   "outputs": [],
   "source": [
    "a[x, y] <- [[1, 2], [3, 4]]\n",
    "b[y, z] <- [[2, 3], [2, 4]]\n",
    "?[x, y, z] := a[x, y], b[y, z]\n",
    "?[x, y, z] := a[x, y], not b[y, _], z = null"
   ],
   "id": "712436ece7f924da"
  },
  {
   "cell_type": "markdown",
   "metadata": {},
   "source": [
    "Note that we still only have a single output `?` rule here; it is split into two parts effectively joining the right sides with `or` as we discussed previously."
   ],
   "id": "18b6729f651bd9a6"
  },
  {
   "cell_type": "markdown",
   "metadata": {
    "ExecuteTime": {
     "start_time": "2023-08-30T03:59:24.216076Z"
    }
   },
   "source": [
    "## Stored relations\n",
    "\n",
    "The relations we've seen so far were created on the fly as constant rules, and only persist for the duration of the query.\n",
    "\n",
    "You can of course also persist data. To do this, you first declare the relation:"
   ],
   "id": "d8cfce69a1914dfd"
  },
  {
   "cell_type": "code",
   "execution_count": null,
   "metadata": {
    "ExecuteTime": {
     "start_time": "2023-08-30T03:55:39.360146Z"
    },
    "collapsed": false
   },
   "outputs": [],
   "source": [
    ":create stored {c1, c2}"
   ],
   "id": "4d180b88d4b3d4b4"
  },
  {
   "cell_type": "markdown",
   "metadata": {
    "ExecuteTime": {
     "start_time": "2023-08-30T03:59:24.230036Z"
    }
   },
   "source": [
    "This creates a relation called 'stored' with two columns that will take any type. Here is a fully typed relation:"
   ],
   "id": "d52d82a1b5a3da7"
  },
  {
   "cell_type": "code",
   "execution_count": null,
   "metadata": {
    "ExecuteTime": {
     "start_time": "2023-08-30T03:55:39.360911Z"
    },
    "collapsed": false
   },
   "outputs": [],
   "source": [
    ":create dept_info {\n",
    "    company_name: String,\n",
    "    department_name: String,\n",
    "    =>\n",
    "    head_count: Int default 0,\n",
    "    address: String,\n",
    "}"
   ],
   "id": "aeafb04cedb41e2a"
  },
  {
   "cell_type": "markdown",
   "metadata": {
    "ExecuteTime": {
     "start_time": "2023-08-30T03:59:24.244278Z"
    }
   },
   "source": [
    "This should be fairly obvious, except for the `=>` in the middle. This symbol separates the columns in the primary key before the `=>` from the other columns. If the `=>` isn’t present, all of the columns are considered part of the primary key.\n"
   ],
   "id": "da88f57efbb85d69"
  },
  {
   "cell_type": "code",
   "execution_count": null,
   "metadata": {
    "ExecuteTime": {
     "start_time": "2023-08-30T03:59:24.245208Z"
    },
    "collapsed": false
   },
   "outputs": [],
   "source": [
    "?[a, b, c] <- [[1, 'a', 'A'],\n",
    "[2, 'b', 'B'],\n",
    "[3, 'c', 'C'],\n",
    "[4, 'd', 'D']]\n",
    "\n",
    ":create fd {a, b => c}"
   ],
   "id": "2786418aa1d4a994"
  },
  {
   "cell_type": "code",
   "execution_count": null,
   "metadata": {
    "ExecuteTime": {
     "start_time": "2023-08-30T03:55:39.362728Z"
    },
    "collapsed": false
   },
   "outputs": [],
   "source": [
    "?[a, b, c] := *fd[a, b, c]"
   ],
   "id": "c058cfdcce787812"
  },
  {
   "cell_type": "markdown",
   "metadata": {
    "ExecuteTime": {
     "start_time": "2023-08-30T03:59:24.258771Z"
    }
   },
   "source": [
    "Note how we create rows in fd as we define it.\n",
    "\n",
    "In Cozo terms, the fields _after_ the => are _functionally dependent_ on the ones before. Those before determine identity, which lets the :put operation function as (_upsert_)[https://wiki.postgresql.org/wiki/UPSERT](update-or-insert)."
   ],
   "id": "88453f153b1aac7d"
  },
  {
   "cell_type": "code",
   "execution_count": null,
   "metadata": {
    "ExecuteTime": {
     "start_time": "2023-08-30T03:59:24.259551Z"
    },
    "collapsed": false
   },
   "outputs": [],
   "source": [
    "?[a, b, c] <- [[3, 'c', 'CCCCCCC']]\n",
    "\n",
    ":put fd {a, b => c}"
   ],
   "id": "cf4bb29c97006a6d"
  },
  {
   "cell_type": "code",
   "execution_count": null,
   "metadata": {
    "ExecuteTime": {
     "start_time": "2023-08-30T03:55:39.364169Z"
    },
    "collapsed": false
   },
   "outputs": [],
   "source": [
    "?[a, b, c] := *fd[a, b, c]"
   ],
   "id": "58b04461373c4bea"
  },
  {
   "cell_type": "markdown",
   "metadata": {
    "ExecuteTime": {
     "start_time": "2023-08-30T03:59:24.272979Z"
    }
   },
   "source": [
    "Note that the name of the stored relation should not start with an underscore `_`. You will get no error if you use a name starting with an underscore, but you will discover that the relation won't be persisted. What you are dealing with is actually what is called an [_ephemeral relation_](stored.rst).\n",
    "\n",
    "You can see the stored relations in your system by running a _system op_:"
   ],
   "id": "ee6beed25c2fb91e"
  },
  {
   "cell_type": "code",
   "execution_count": null,
   "metadata": {
    "ExecuteTime": {
     "start_time": "2023-08-30T03:55:39.364830Z"
    }
   },
   "outputs": [],
   "source": [
    "::relations"
   ],
   "id": "bc14d6e8392b8f2f"
  },
  {
   "cell_type": "markdown",
   "metadata": {
    "ExecuteTime": {
     "start_time": "2023-08-30T03:59:24.286765Z"
    }
   },
   "source": [
    "Note that we have regular operations like `:create` that start with a :, and system operations with a ::.\n",
    " \n",
    "We can investigate the columns of the stored relation:"
   ],
   "id": "d87c4aae3cd8f393"
  },
  {
   "cell_type": "code",
   "execution_count": null,
   "metadata": {
    "ExecuteTime": {
     "start_time": "2023-08-30T03:55:39.365462Z"
    }
   },
   "outputs": [],
   "source": [
    "::columns stored "
   ],
   "id": "e7fa5a64c9efcd46"
  },
  {
   "cell_type": "markdown",
   "metadata": {
    "ExecuteTime": {
     "start_time": "2023-08-30T03:59:24.300689Z"
    }
   },
   "source": [
    "Stored relations can be accessed by using an asterisk `*` before the name:"
   ],
   "id": "b378541ec055ae76"
  },
  {
   "cell_type": "code",
   "execution_count": null,
   "metadata": {
    "ExecuteTime": {
     "start_time": "2023-08-30T03:55:39.366082Z"
    }
   },
   "outputs": [],
   "source": [
    "?[a, b] := *stored[a, b]"
   ],
   "id": "1db0ba1654cbf140"
  },
  {
   "cell_type": "markdown",
   "metadata": {
    "ExecuteTime": {
     "start_time": "2023-08-30T03:59:24.314463Z"
    }
   },
   "source": [
    "Unlike relations defined inline, the columns of stored relations have fixed names. \n",
    "You can take advantage of this by selectively referring to columns by name,\n",
    "especially if you have a lot of columns:"
   ],
   "id": "6b193f51fe6acbfb"
  },
  {
   "cell_type": "code",
   "execution_count": null,
   "metadata": {
    "ExecuteTime": {
     "start_time": "2023-08-30T03:55:39.366665Z"
    }
   },
   "outputs": [],
   "source": [
    "?[a, b] := *stored{l2: b, l1: a}"
   ],
   "id": "ccabda371e404c7f"
  },
  {
   "cell_type": "markdown",
   "metadata": {
    "ExecuteTime": {
     "start_time": "2023-08-30T03:59:24.328062Z"
    }
   },
   "source": [
    "If the binding is the same as the column name, you can omit the binding:"
   ],
   "id": "2061b968ee3b7ddf"
  },
  {
   "cell_type": "code",
   "execution_count": null,
   "metadata": {
    "ExecuteTime": {
     "start_time": "2023-08-30T03:55:39.367304Z"
    }
   },
   "outputs": [],
   "source": [
    "?[l2] := *stored{l2}"
   ],
   "id": "bb439f1eec95af16"
  },
  {
   "cell_type": "markdown",
   "metadata": {
    "ExecuteTime": {
     "start_time": "2023-08-30T03:59:24.342073Z"
    }
   },
   "source": [
    "Use `:rm` to remove data:"
   ],
   "id": "22fa40fb60e24945"
  },
  {
   "cell_type": "code",
   "execution_count": null,
   "metadata": {
    "ExecuteTime": {
     "start_time": "2023-08-30T03:59:24.342930Z"
    }
   },
   "outputs": [],
   "source": [
    "?[l1, l2] <- [['e', 'E']]\n",
    "    \n",
    ":rm stored {l1, l2}"
   ],
   "id": "e73b698a8fe2350d"
  },
  {
   "cell_type": "code",
   "execution_count": null,
   "metadata": {
    "ExecuteTime": {
     "start_time": "2023-08-30T03:55:39.368347Z"
    }
   },
   "outputs": [],
   "source": [
    "?[l1, l2] := *stored[l1, l2]"
   ],
   "id": "698c2512a322aa17"
  },
  {
   "cell_type": "markdown",
   "metadata": {
    "ExecuteTime": {
     "start_time": "2023-08-30T03:59:24.355743Z"
    }
   },
   "source": [
    "Use `::remove` (double colon!) to get rid of a stored relation:"
   ],
   "id": "e74c4b0eb8a072b3"
  },
  {
   "cell_type": "code",
   "execution_count": null,
   "metadata": {
    "ExecuteTime": {
     "start_time": "2023-08-30T03:59:24.356441Z"
    }
   },
   "outputs": [],
   "source": [
    "::remove stored"
   ],
   "id": "3ab5a67ab9d0de20"
  },
  {
   "cell_type": "code",
   "execution_count": null,
   "metadata": {
    "ExecuteTime": {
     "start_time": "2023-08-30T03:55:39.369920Z"
    }
   },
   "outputs": [],
   "source": [
    "::relations"
   ],
   "id": "e36e9cdd266f1576"
  },
  {
   "cell_type": "markdown",
   "metadata": {},
   "source": [
    "We've now seen a variety of Cozo queries. They all have one or more rules, one of which will have the name ? which determines which variables are the _result_ of the query.\n",
    "\n",
    "A query can also have one or more operations such as :put, which are executed after the query and can use its results. These operations might also change the query in some way, by limiting the number of results, sorting, paginating and so on."
   ],
   "id": "32d927b32a1b67a5"
  },
  {
   "cell_type": "markdown",
   "metadata": {
    "ExecuteTime": {
     "start_time": "2023-08-30T03:59:24.381642Z"
    }
   },
   "source": [
    "Stored relations can have triggers. These are discussed in detail [here](stored.rst).\n",
    "\n",
    "Before continuing, let's remove the stored relation we introduced:"
   ],
   "id": "6676879fb0eeeccb"
  },
  {
   "cell_type": "code",
   "execution_count": null,
   "metadata": {
    "ExecuteTime": {
     "start_time": "2023-08-30T03:55:39.370714Z"
    }
   },
   "outputs": [],
   "source": [
    "::remove fd"
   ],
   "id": "55fe28b3484c1f6b"
  },
  {
   "cell_type": "markdown",
   "metadata": {
    "ExecuteTime": {
     "start_time": "2023-08-30T03:59:24.395087Z"
    }
   },
   "source": [
    "## Command blocks\n",
    "\n",
    "Cozo executes the entire script you send to it in a single transaction. You can do multiple query-command blocks by wrapping each block in curly braces. The blocks are executed in sequence and either all of them succeed or none of them do and the state rolls back. The result returned to a client is whatever is in the last block. Like this:"
   ],
   "id": "ee85694a329fcc9f"
  },
  {
   "cell_type": "code",
   "execution_count": null,
   "metadata": {
    "ExecuteTime": {
     "start_time": "2023-08-30T03:55:39.371413Z"
    },
    "collapsed": false
   },
   "outputs": [],
   "source": [
    "{?[a] <- [[1], [2], [3]]; :replace test {a}}\n",
    "{?[a] <- []; :replace test2 {a}}\n",
    "%swap test test2\n",
    "%return test"
   ],
   "id": "31fa46b823875c71"
  },
  {
   "cell_type": "markdown",
   "metadata": {
    "ExecuteTime": {
     "start_time": "2023-08-30T03:59:24.408705Z"
    }
   },
   "source": [
    "## Graphs\n",
    "\n",
    "Now let's consider a graph stored as a relation:"
   ],
   "id": "9faa665a8e8be39f"
  },
  {
   "cell_type": "code",
   "execution_count": null,
   "metadata": {
    "ExecuteTime": {
     "start_time": "2023-08-30T03:55:39.371898Z"
    }
   },
   "outputs": [],
   "source": [
    "?[loving, loved] <- [['alice', 'eve'],\n",
    "                     ['bob', 'alice'],\n",
    "                     ['eve', 'alice'],\n",
    "                     ['eve', 'bob'],\n",
    "                     ['eve', 'charlie'],\n",
    "                     ['charlie', 'eve'],\n",
    "                     ['david', 'george'],\n",
    "                     ['george', 'george']]\n",
    "\n",
    ":replace love {loving, loved}"
   ],
   "id": "35f832d034820ffd"
  },
  {
   "cell_type": "markdown",
   "metadata": {
    "ExecuteTime": {
     "start_time": "2023-08-30T03:59:24.422280Z"
    }
   },
   "source": [
    "The graph we have created reads like \"Alice loves Eve, Bob loves Alice\", \"nobody loves David, David loves George, but George only loves himself\", and so on. \n",
    "Here we used `:replace` instead of `:create`. The difference is that if `love` already exists, it will be wiped and replaced with the new data given.\n",
    "\n",
    "We can investigate competing interests:"
   ],
   "id": "ae8afd639b5c0224"
  },
  {
   "cell_type": "code",
   "execution_count": null,
   "metadata": {
    "ExecuteTime": {
     "start_time": "2023-08-30T03:55:39.372364Z"
    }
   },
   "outputs": [],
   "source": [
    "?[loved_by_b_e] := *love['eve', loved_by_b_e], \n",
    "                   *love['bob', loved_by_b_e]"
   ],
   "id": "65ba6ffb655d17a4"
  },
  {
   "cell_type": "markdown",
   "metadata": {
    "ExecuteTime": {
     "start_time": "2023-08-30T03:59:24.436478Z"
    }
   },
   "source": [
    "It fells natural here to use the `or` keyword:"
   ],
   "id": "c740e9e2c1571478"
  },
  {
   "cell_type": "code",
   "execution_count": null,
   "metadata": {
    "ExecuteTime": {
     "start_time": "2023-08-30T03:55:39.373219Z"
    }
   },
   "outputs": [],
   "source": [
    "?[loved_by_b_e] := *love['eve', loved_by_b_e] or *love['bob', loved_by_b_e], \n",
    "                   loved_by_b_e != 'bob', \n",
    "                   loved_by_b_e != 'eve'"
   ],
   "id": "b1c33ffa0e5a2e96"
  },
  {
   "cell_type": "markdown",
   "metadata": {
    "ExecuteTime": {
     "start_time": "2023-08-30T03:59:24.450064Z"
    }
   },
   "source": [
    "Compare this with multiple rule definitions under the same name:"
   ],
   "id": "d6438eb34a0479c4"
  },
  {
   "cell_type": "code",
   "execution_count": null,
   "metadata": {
    "ExecuteTime": {
     "start_time": "2023-08-30T03:55:39.374134Z"
    }
   },
   "outputs": [],
   "source": [
    "?[loved_by_b_e] := *love['eve', loved_by_b_e], \n",
    "                   loved_by_b_e != 'bob', \n",
    "                   loved_by_b_e != 'eve'\n",
    "?[loved_by_b_e] := *love['bob', loved_by_b_e], \n",
    "                   loved_by_b_e != 'bob', \n",
    "                   loved_by_b_e != 'eve'"
   ],
   "id": "c680fec3479c5ef5"
  },
  {
   "cell_type": "markdown",
   "metadata": {
    "ExecuteTime": {
     "start_time": "2023-08-30T03:59:24.464382Z"
    }
   },
   "source": [
    "When you have multiple definitions of the same inline rule, the rule heads must be compatible. Only inline rules can have multiple definitions.\n",
    "\n",
    "### Negation\n",
    "\n",
    "Negation of _expressions_ should be familiar:"
   ],
   "id": "a6fe5c44a8f17578"
  },
  {
   "cell_type": "code",
   "execution_count": null,
   "metadata": {
    "ExecuteTime": {
     "start_time": "2023-08-30T03:55:39.375252Z"
    }
   },
   "outputs": [],
   "source": [
    "?[loved] := *love[person, loved], !ends_with(person, 'e')"
   ],
   "id": "4fe3a2bdbc7479a0"
  },
  {
   "cell_type": "markdown",
   "metadata": {
    "ExecuteTime": {
     "start_time": "2023-08-30T03:59:24.478740Z"
    }
   },
   "source": [
    "Rule applications can also be negated, not with the `!` operator, but with the `not` keyword:"
   ],
   "id": "dcb28d1637e7ee08"
  },
  {
   "cell_type": "code",
   "execution_count": null,
   "metadata": {
    "ExecuteTime": {
     "start_time": "2023-08-30T03:55:39.376117Z"
    }
   },
   "outputs": [],
   "source": [
    "?[loved_by_e_not_b] := *love['eve', loved_by_e_not_b], \n",
    "                       not *love['bob', loved_by_e_not_b]"
   ],
   "id": "a990c3e65f79f1e9"
  },
  {
   "cell_type": "markdown",
   "metadata": {
    "ExecuteTime": {
     "start_time": "2023-08-30T03:59:24.493394Z"
    }
   },
   "source": [
    "There are two sets of logical operations in Cozo, one set that acts on the level of expressions, and another set that acts within the expression (we say they work on _atoms_):\n",
    "\n",
    "* For atoms: `,` or `and` (conjunction), `or` (disjunction), `not` (negation)\n",
    "* For expressions: `&&` (conjunction), `||` (disjunction), `!` (negation)\n",
    "\n",
    "The difference between `,` and `and` is operator precedence: `and` has higher precedence than `or`, whereas `,` has lower precedence than `or`.\n",
    "\n",
    "There is a _safety rule_ for negation:"
   ],
   "id": "cee4016c7aaac4a4"
  },
  {
   "cell_type": "code",
   "execution_count": null,
   "metadata": {
    "ExecuteTime": {
     "start_time": "2023-08-30T03:55:39.377Z"
    }
   },
   "outputs": [],
   "source": [
    "?[not_loved_by_b] := not *love['bob', not_loved_by_b]"
   ],
   "id": "e8c4d150fd4c59"
  },
  {
   "cell_type": "markdown",
   "metadata": {
    "ExecuteTime": {
     "start_time": "2023-08-30T03:59:24.507369Z"
    }
   },
   "source": [
    "This query is forbidden because the resulting relation is infinite.\n",
    "For example, 'gold' should be in the result, since _according to the facts stored in the database_, \n",
    "Bob has no interest in 'gold'.\n",
    "\n",
    "To make our query finite, we have to explicitly give our query a _closed world_:"
   ],
   "id": "fcf5c3bc42c8e68d"
  },
  {
   "cell_type": "code",
   "execution_count": null,
   "metadata": {
    "ExecuteTime": {
     "start_time": "2023-08-30T03:55:39.377934Z"
    }
   },
   "outputs": [],
   "source": [
    "the_population[p] := *love[p, _a]\n",
    "the_population[p] := *love[_a, p]\n",
    "\n",
    "?[not_loved_by_b] := the_population[not_loved_by_b], \n",
    "                     not *love['bob', not_loved_by_b]"
   ],
   "id": "77d4d6b63ca9db4c"
  },
  {
   "cell_type": "markdown",
   "metadata": {
    "ExecuteTime": {
     "start_time": "2023-08-30T03:59:24.521051Z"
    }
   },
   "source": [
    "### Recursion\n",
    "\n",
    "The single greatest advantage of Datalog over SQL is that recursive/graph queries area much simpler. \n",
    "\n",
    "Inline rules can apply other rules, and can have multiple definitions. If you combine these two, you get recursions:"
   ],
   "id": "337fe94b96073707"
  },
  {
   "cell_type": "code",
   "execution_count": null,
   "metadata": {
    "ExecuteTime": {
     "start_time": "2023-08-30T03:55:39.378847Z"
    }
   },
   "outputs": [],
   "source": [
    "alice_love_chain[person] := *love['alice', person]\n",
    "alice_love_chain[person] := alice_love_chain[in_person], \n",
    "                            *love[in_person, person]\n",
    "\n",
    "?[chained] := alice_love_chain[chained]"
   ],
   "id": "31192960ce742f86"
  },
  {
   "cell_type": "markdown",
   "metadata": {
    "ExecuteTime": {
     "start_time": "2023-08-30T03:59:24.534861Z"
    }
   },
   "source": [
    "You may object that you only need to be able to apply other rules to have recursion, \n",
    "without multiple definitions. \n",
    "Technically correct, but the resulting queries are not useful::"
   ],
   "id": "70427806975f34c2"
  },
  {
   "cell_type": "code",
   "execution_count": null,
   "metadata": {
    "ExecuteTime": {
     "start_time": "2023-08-30T03:55:39.379689Z"
    }
   },
   "outputs": [],
   "source": [
    "alice_love_chain[person] := alice_love_chain[in_person], \n",
    "                            *love[in_person, person]\n",
    "\n",
    "?[chained] := alice_love_chain[chained]"
   ],
   "id": "f2ba4a46039fa95"
  },
  {
   "cell_type": "markdown",
   "metadata": {
    "ExecuteTime": {
     "start_time": "2023-08-30T03:59:24.548857Z"
    }
   },
   "source": [
    "Similar to the negation case, if there is no way to _deduce_ a fact from the given facts, \n",
    "then the fact itself is considered false. \n",
    "You need multiple definitions to \"bootstrap\" the query.\n",
    "\n",
    "### Aggregation\n",
    "\n",
    "_Aggregations_ are usually used to compute statistics. In Cozo, aggregations are applied in the head of inline rules:"
   ],
   "id": "6599341971e4847a"
  },
  {
   "cell_type": "code",
   "execution_count": null,
   "metadata": {
    "ExecuteTime": {
     "start_time": "2023-08-30T03:55:39.380667Z"
    }
   },
   "outputs": [],
   "source": [
    "?[person, count(loved_by)] := *love[loved_by, person]"
   ],
   "id": "9c77cf1443a8b286"
  },
  {
   "cell_type": "markdown",
   "metadata": {
    "ExecuteTime": {
     "start_time": "2023-08-30T03:59:24.562891Z"
    }
   },
   "source": [
    "The usual `sum`, `mean`, etc. are all available. \n",
    "\n",
    "Here is the [full list](aggregations.rst) of aggregations for you to play with.\n",
    "\n",
    "### Query options\n",
    "\n",
    "We have seen query options like `:create`, `:put`, `:rm` for manipulating stored relations. \n",
    "There are also query options for controlling what is returned:"
   ],
   "id": "36041bb1af96d6a8"
  },
  {
   "cell_type": "code",
   "execution_count": null,
   "metadata": {
    "ExecuteTime": {
     "start_time": "2023-08-30T03:55:39.381528Z"
    }
   },
   "outputs": [],
   "source": [
    "?[loving, loved] := *love{ loving, loved }\n",
    "\n",
    ":limit 1"
   ],
   "id": "56614999bba122a"
  },
  {
   "cell_type": "markdown",
   "metadata": {
    "ExecuteTime": {
     "start_time": "2023-08-30T03:59:24.576507Z"
    }
   },
   "source": [
    "Next we want the result to be sorted by `loved` in descending order, then `loving` in ascending order, and skip the first row:"
   ],
   "id": "76e49fef06ea128a"
  },
  {
   "cell_type": "code",
   "execution_count": null,
   "metadata": {
    "ExecuteTime": {
     "start_time": "2023-08-30T03:55:39.382407Z"
    }
   },
   "outputs": [],
   "source": [
    "?[loving, loved] := *love{ loving, loved }\n",
    "\n",
    ":order -loved, loving\n",
    ":offset 1"
   ],
   "id": "7baa356acee5041b"
  },
  {
   "cell_type": "markdown",
   "metadata": {
    "ExecuteTime": {
     "start_time": "2023-08-30T03:59:24.590179Z"
    }
   },
   "source": [
    "Putting `-` in front of variables in `:order` clause denotes reverse order. Nothing or `+` denotes the ascending order.\n",
    "\n",
    "The full list of query options are explained in [this chapter](queries.rst).\n",
    "\n",
    "### Fixed rules\n",
    "\n",
    "We've seen how the `<-` syntax for constant rules is syntax sugar. The full syntax is:"
   ],
   "id": "7f0d92363edbd858"
  },
  {
   "cell_type": "code",
   "execution_count": null,
   "metadata": {
    "ExecuteTime": {
     "start_time": "2023-08-30T03:55:39.383271Z"
    }
   },
   "outputs": [],
   "source": [
    "?[] <~ Constant(data: [['hello', 'world', 'Cozo!']])"
   ],
   "id": "2e959570defe7b16"
  },
  {
   "cell_type": "markdown",
   "metadata": {
    "ExecuteTime": {
     "start_time": "2023-08-30T03:59:24.604044Z"
    }
   },
   "source": [
    "Here we are using the _fixed rule_ `Constant`, which takes one _option_ named `data`. The curly tail `<~` denotes a fixed rule.\n",
    "\n",
    "Fixed rules take input relations as arguments, apply custom logic to them and produce its output relation. They're functions that return relations, defined outside the Cozo engine itself (either built-in or loaded from a library or defined by the host language).\n",
    "\n",
    "The `Constant` fixed rule take zero input relations.\n",
    "\n",
    "If you are using Cozo in browser, `Constant` is the only fixed rule you can use. In all other cases your Cozo would have the graph algorithms module enabled, and all graph algorithms are implemented as fixed rules. As an example, let's find out who is most popular in the `love` graph by using the [PageRank](https://en.wikipedia.org/wiki/PageRank) algorithm:"
   ],
   "id": "f45b8489f7ff0c26"
  },
  {
   "cell_type": "code",
   "execution_count": null,
   "metadata": {
    "ExecuteTime": {
     "start_time": "2023-08-30T03:55:39.384148Z"
    }
   },
   "outputs": [],
   "source": [
    "?[person, page_rank] <~ PageRank(*love[])\n",
    "\n",
    ":order -page_rank"
   ],
   "id": "724c34d387bfeb50"
  },
  {
   "cell_type": "markdown",
   "metadata": {
    "ExecuteTime": {
     "start_time": "2023-08-30T03:59:24.617589Z"
    }
   },
   "source": [
    "Here the input relation is the stored relation `*love` (as noted above, you will receive an error if you run this in the WASM implementation).\n",
    "\n",
    "Each fixed rule is different: [here](algorithms.rst) is the full list."
   ],
   "id": "43f9d94a64ca7f5c"
  },
  {
   "cell_type": "code",
   "execution_count": null,
   "metadata": {
    "ExecuteTime": {
     "start_time": "2023-08-30T03:55:39.385004Z"
    }
   },
   "outputs": [],
   "source": [
    "::remove love"
   ],
   "id": "2c43a19353d520ea"
  },
  {
   "cell_type": "markdown",
   "metadata": {
    "ExecuteTime": {
     "start_time": "2023-08-30T03:59:24.631135Z"
    }
   },
   "source": [
    "## Time travel\n",
    "\n",
    "A very useful capability of Cozo is the ability to time travel in a stored relation.\n",
    "Usually when you `:put` into a relation, the old value is overwritten; and when you `:rm`, the row is\n",
    "completely gone. But the old values can be of great value — we have a [short story](releases/v0.4.md) about it.\n",
    "\n",
    "In this case, _time travel_ is the solution: instead of storing _current_ facts, the stored relation stores the complete history of facts, at least all the available history as history itself unfolds.\n",
    "\n",
    "If you believe that you don't want this functionality at all, you can skip to the next section.\n",
    "At Cozo we adopt the \"zero-cost, zero-mental-overhead abstraction\" philosophy:\n",
    "if you don't use a functionality, you don't pay the performance or cognitive overhead.\n",
    "\n",
    "Let's have a simple example: storing the head of state of countries.\n",
    "First we have to create a new stored relation:"
   ],
   "id": "e250583d72497d90"
  },
  {
   "cell_type": "code",
   "execution_count": 3,
   "metadata": {
    "ExecuteTime": {
     "end_time": "2023-08-30T05:12:16.285249Z",
     "start_time": "2023-08-30T05:12:15.519673Z"
    }
   },
   "outputs": [
    {
     "ename": "SyntaxError",
     "evalue": "invalid syntax (<ipython-input-3-5a20a6d3c9bd>, line 1)",
     "output_type": "error",
     "traceback": [
      "\u001B[0;36m  File \u001B[0;32m\"<ipython-input-3-5a20a6d3c9bd>\"\u001B[0;36m, line \u001B[0;32m1\u001B[0m\n\u001B[0;31m    :create hos {state: String, year: Validity => hos: String}\u001B[0m\n\u001B[0m    ^\u001B[0m\n\u001B[0;31mSyntaxError\u001B[0m\u001B[0;31m:\u001B[0m invalid syntax\n"
     ]
    }
   ],
   "source": [
    ":create hos {state: String, year: Validity => hos: String}"
   ],
   "id": "e419e216ea688bd9"
  },
  {
   "cell_type": "markdown",
   "metadata": {
    "ExecuteTime": {
     "start_time": "2023-08-30T03:59:24.644642Z"
    }
   },
   "source": [
    "`hos` is shorthand for \"head of state\". The only thing different about this relation is that we are giving `year` the type `Validity`.\n",
    "You can think of validity as a list of two elements, the first element being an integer and the second element being a boolean.\n",
    "The integer indicates the \"time\" of the fact recorded by the row, the boolean, if _true_, indicates that the new version of the row holds starting from the indicated time; if the boolean is _false_, the row is deleted at this time.\n",
    "\n",
    "Note that the integer only identifies a temporal sequence to Cozo. What sequence you use is up to you. UNIX _Epoch_ is the default, as we will see.\n",
    "\n",
    "Now let's insert some data:"
   ],
   "id": "1665a9f87217267e"
  },
  {
   "cell_type": "code",
   "execution_count": 4,
   "metadata": {
    "ExecuteTime": {
     "start_time": "2023-08-30T05:12:15.532748Z"
    }
   },
   "outputs": [
    {
     "ename": "IndentationError",
     "evalue": "unexpected indent (<ipython-input-4-7ea50d23d9ee>, line 2)",
     "output_type": "error",
     "traceback": [
      "\u001B[0;36m  File \u001B[0;32m\"<ipython-input-4-7ea50d23d9ee>\"\u001B[0;36m, line \u001B[0;32m2\u001B[0m\n\u001B[0;31m    ['US', [2005, true], 'Bush'],\u001B[0m\n\u001B[0m    ^\u001B[0m\n\u001B[0;31mIndentationError\u001B[0m\u001B[0;31m:\u001B[0m unexpected indent\n"
     ]
    }
   ],
   "source": [
    "?[state, year, hos] <- [['US', [2001, true], 'Bush'],\n",
    "                        ['US', [2005, true], 'Bush'],\n",
    "                        ['US', [2009, true], 'Obama'],\n",
    "                        ['US', [2013, true], 'Obama'],\n",
    "                        ['US', [2017, true], 'Trump'],\n",
    "                        ['US', [2021, true], 'Biden']]\n",
    "\n",
    ":put hos {state, year => hos}"
   ],
   "id": "dea0492e0d2fbe10"
  },
  {
   "cell_type": "markdown",
   "metadata": {
    "ExecuteTime": {
     "start_time": "2023-08-30T03:59:24.657887Z"
    }
   },
   "source": [
    "It is OK to assert a still valid fact again, as we have done above. You can use this relation like a normal relation:"
   ],
   "id": "a8befad118a70671"
  },
  {
   "cell_type": "code",
   "execution_count": 5,
   "metadata": {
    "ExecuteTime": {
     "end_time": "2023-08-30T05:12:16.317547Z",
     "start_time": "2023-08-30T05:12:15.549714Z"
    }
   },
   "outputs": [
    {
     "name": "stdout",
     "output_type": "stream",
     "text": [
      "Object `` not found.\n"
     ]
    }
   ],
   "source": [
    "?[state, year, hos] := *hos{state, year, hos}"
   ],
   "id": "b50989fd5c317a36"
  },
  {
   "cell_type": "markdown",
   "metadata": {
    "ExecuteTime": {
     "start_time": "2023-08-30T03:59:24.671148Z"
    }
   },
   "source": [
    "The curious thing is that it is sorted _descendingly_ by year. Validity sorts descendingly.\n",
    "\n",
    "For any stored relation that has type `Validity` at the _last_ slot of the key, the time-travel capability is enabled. \n",
    "Say you have forgotten who the president of the US was in 2019. Easy:"
   ],
   "id": "2c616c0352a2d88b"
  },
  {
   "cell_type": "code",
   "execution_count": 6,
   "metadata": {
    "ExecuteTime": {
     "end_time": "2023-08-30T05:12:16.379802Z",
     "start_time": "2023-08-30T05:12:15.563466Z"
    }
   },
   "outputs": [
    {
     "name": "stdout",
     "output_type": "stream",
     "text": [
      "Object `` not found.\n"
     ]
    }
   ],
   "source": [
    "?[hos, year] := *hos{state: 'US', year, hos @ 2019}"
   ],
   "id": "5d5da97d9ee91de5"
  },
  {
   "cell_type": "markdown",
   "metadata": {
    "ExecuteTime": {
     "start_time": "2023-08-30T03:59:24.684557Z"
    }
   },
   "source": [
    "In your answer you also got the year that this fact was last known to be true.\n",
    "\n",
    "You also don't know about the year 2099:"
   ],
   "id": "b23216e2eae4f36a"
  },
  {
   "cell_type": "code",
   "execution_count": 7,
   "metadata": {
    "ExecuteTime": {
     "end_time": "2023-08-30T05:12:16.426742Z",
     "start_time": "2023-08-30T05:12:15.578962Z"
    }
   },
   "outputs": [
    {
     "name": "stdout",
     "output_type": "stream",
     "text": [
      "Object `` not found.\n"
     ]
    }
   ],
   "source": [
    "?[hos, year] := *hos{state: 'US', year, hos @ 2099}"
   ],
   "id": "bba5db417c9dfb95"
  },
  {
   "cell_type": "markdown",
   "metadata": {
    "ExecuteTime": {
     "start_time": "2023-08-30T03:59:24.697935Z"
    }
   },
   "source": [
    "That certainly doesn't look right. Let's fix it by _retracting_ facts on or after 2025, and only inserting them back when we have the sure facts:"
   ],
   "id": "33bbb2c38ea4e268"
  },
  {
   "cell_type": "code",
   "execution_count": 8,
   "metadata": {
    "ExecuteTime": {
     "start_time": "2023-08-30T05:12:15.593946Z"
    }
   },
   "outputs": [
    {
     "ename": "SyntaxError",
     "evalue": "invalid syntax (<ipython-input-8-a146750195d8>, line 3)",
     "output_type": "error",
     "traceback": [
      "\u001B[0;36m  File \u001B[0;32m\"<ipython-input-8-a146750195d8>\"\u001B[0;36m, line \u001B[0;32m3\u001B[0m\n\u001B[0;31m    :put hos {state, year => hos}\u001B[0m\n\u001B[0m    ^\u001B[0m\n\u001B[0;31mSyntaxError\u001B[0m\u001B[0;31m:\u001B[0m invalid syntax\n"
     ]
    }
   ],
   "source": [
    "?[state, year, hos] <- [['US', [2025, false], '']]\n",
    "\n",
    ":put hos {state, year => hos}"
   ],
   "id": "5d0570aa3c9d4e9f"
  },
  {
   "cell_type": "markdown",
   "metadata": {
    "ExecuteTime": {
     "start_time": "2023-08-30T03:59:24.711236Z"
    }
   },
   "source": [
    "As we have hinted, you retract facts by _putting_ a retraction. Now let's run the query again:"
   ],
   "id": "d34d1127e84cf004"
  },
  {
   "cell_type": "code",
   "execution_count": 9,
   "metadata": {
    "ExecuteTime": {
     "end_time": "2023-08-30T05:12:16.534493Z",
     "start_time": "2023-08-30T05:12:15.608858Z"
    }
   },
   "outputs": [
    {
     "name": "stdout",
     "output_type": "stream",
     "text": [
      "Object `` not found.\n"
     ]
    }
   ],
   "source": [
    "?[hos, year] := *hos{state: 'US', year, hos @ 2099}"
   ],
   "id": "4e6782e865e16ea8"
  },
  {
   "cell_type": "markdown",
   "metadata": {
    "ExecuteTime": {
     "start_time": "2023-08-30T03:59:24.724892Z"
    }
   },
   "source": [
    "Since the database does not contain facts on or after 2025, your query returns empty.\n",
    "\n",
    "This functionality is flexible: you can mix different periods in the same query:"
   ],
   "id": "1b3fc380cd525821"
  },
  {
   "cell_type": "code",
   "execution_count": 10,
   "metadata": {
    "ExecuteTime": {
     "start_time": "2023-08-30T05:12:15.623995Z"
    }
   },
   "outputs": [
    {
     "ename": "IndentationError",
     "evalue": "unexpected indent (<ipython-input-10-b731005b7af7>, line 2)",
     "output_type": "error",
     "traceback": [
      "\u001B[0;36m  File \u001B[0;32m\"<ipython-input-10-b731005b7af7>\"\u001B[0;36m, line \u001B[0;32m2\u001B[0m\n\u001B[0;31m    *hos{state: 'US', hos: hos2010 @ 2010}\u001B[0m\n\u001B[0m    ^\u001B[0m\n\u001B[0;31mIndentationError\u001B[0m\u001B[0;31m:\u001B[0m unexpected indent\n"
     ]
    }
   ],
   "source": [
    "?[hos2018, hos2010] := *hos{state: 'US', hos: hos2018 @ 2018}, \n",
    "                       *hos{state: 'US', hos: hos2010 @ 2010}"
   ],
   "id": "5228f868f9d9043"
  },
  {
   "cell_type": "markdown",
   "metadata": {
    "ExecuteTime": {
     "start_time": "2023-08-30T03:59:24.738266Z"
    }
   },
   "source": [
    "As the relation `hos` is just a normal relation, you can still `rm` facts from it, in which case the facts are irretrievably gone. Whether that's desirable is up to you: the database gives you the choice of how you want to use it, and trusts that you know how to use it correctly for your use case.\n",
    "\n",
    "First let's create a new stored relation to store people's moods:"
   ],
   "id": "7e2e627113b80452"
  },
  {
   "cell_type": "code",
   "execution_count": 11,
   "metadata": {
    "ExecuteTime": {
     "start_time": "2023-08-30T05:12:15.638488Z"
    }
   },
   "outputs": [
    {
     "ename": "SyntaxError",
     "evalue": "invalid syntax (<ipython-input-11-6b0ee918cabe>, line 1)",
     "output_type": "error",
     "traceback": [
      "\u001B[0;36m  File \u001B[0;32m\"<ipython-input-11-6b0ee918cabe>\"\u001B[0;36m, line \u001B[0;32m1\u001B[0m\n\u001B[0;31m    :create mood {name: String, at: Validity => mood: String}\u001B[0m\n\u001B[0m    ^\u001B[0m\n\u001B[0;31mSyntaxError\u001B[0m\u001B[0;31m:\u001B[0m invalid syntax\n"
     ]
    }
   ],
   "source": [
    ":create mood {name: String, at: Validity => mood: String}"
   ],
   "id": "dc963af4c0e79491"
  },
  {
   "cell_type": "markdown",
   "metadata": {
    "ExecuteTime": {
     "start_time": "2023-08-30T03:59:24.751682Z"
    }
   },
   "source": [
    "I want to record my mood now:"
   ],
   "id": "9c998d9d516f467c"
  },
  {
   "cell_type": "code",
   "execution_count": 12,
   "metadata": {
    "ExecuteTime": {
     "start_time": "2023-08-30T05:12:15.658266Z"
    }
   },
   "outputs": [
    {
     "ename": "SyntaxError",
     "evalue": "invalid syntax (<ipython-input-12-f78cb7e4ad91>, line 2)",
     "output_type": "error",
     "traceback": [
      "\u001B[0;36m  File \u001B[0;32m\"<ipython-input-12-f78cb7e4ad91>\"\u001B[0;36m, line \u001B[0;32m2\u001B[0m\n\u001B[0;31m    :put mood {name, at => mood}\u001B[0m\n\u001B[0m    ^\u001B[0m\n\u001B[0;31mSyntaxError\u001B[0m\u001B[0;31m:\u001B[0m invalid syntax\n"
     ]
    }
   ],
   "source": [
    "?[name, at, mood] <- [['me', 'ASSERT', 'curious']]\n",
    ":put mood {name, at => mood}"
   ],
   "id": "3af4a4e1f413f5ca"
  },
  {
   "cell_type": "markdown",
   "metadata": {
    "ExecuteTime": {
     "start_time": "2023-08-30T03:59:24.765395Z"
    }
   },
   "source": [
    "Instead of giving a list of two elements as we have done above, we have simply used the string `ASSERT`, and the system will know that we mean an assertion of a _current_ fact, and you guessed it, the value used is the current UNIX Epoch."
   ],
   "id": "6b85cdddb70c4af5"
  },
  {
   "cell_type": "code",
   "execution_count": 13,
   "metadata": {
    "ExecuteTime": {
     "end_time": "2023-08-30T05:12:16.781857Z",
     "start_time": "2023-08-30T05:12:15.677511Z"
    }
   },
   "outputs": [
    {
     "name": "stdout",
     "output_type": "stream",
     "text": [
      "Object `` not found.\n"
     ]
    }
   ],
   "source": [
    "?[name, at, mood] := *mood{name, at, mood}"
   ],
   "id": "9d0c1e632c685746"
  },
  {
   "cell_type": "code",
   "execution_count": 14,
   "metadata": {
    "ExecuteTime": {
     "start_time": "2023-08-30T05:12:15.683982Z"
    }
   },
   "outputs": [
    {
     "ename": "IndentationError",
     "evalue": "unexpected indent (<ipython-input-14-acc3aceecab7>, line 2)",
     "output_type": "error",
     "traceback": [
      "\u001B[0;36m  File \u001B[0;32m\"<ipython-input-14-acc3aceecab7>\"\u001B[0;36m, line \u001B[0;32m2\u001B[0m\n\u001B[0;31m    time = format_timestamp(at)\u001B[0m\n\u001B[0m    ^\u001B[0m\n\u001B[0;31mIndentationError\u001B[0m\u001B[0;31m:\u001B[0m unexpected indent\n"
     ]
    }
   ],
   "source": [
    "?[name, time, mood] := *mood{name, at, mood}, \n",
    "                       time = format_timestamp(at)"
   ],
   "id": "27b944529742ff60"
  },
  {
   "cell_type": "markdown",
   "metadata": {
    "ExecuteTime": {
     "start_time": "2023-08-30T03:59:24.778571Z"
    }
   },
   "source": [
    "To query for current facts, use the string `NOW` in the validity specification:"
   ],
   "id": "edd4f2742c38739f"
  },
  {
   "cell_type": "code",
   "execution_count": 15,
   "metadata": {
    "ExecuteTime": {
     "start_time": "2023-08-30T05:12:15.693611Z"
    }
   },
   "outputs": [
    {
     "ename": "IndentationError",
     "evalue": "unexpected indent (<ipython-input-15-acc3aceecab7>, line 2)",
     "output_type": "error",
     "traceback": [
      "\u001B[0;36m  File \u001B[0;32m\"<ipython-input-15-acc3aceecab7>\"\u001B[0;36m, line \u001B[0;32m2\u001B[0m\n\u001B[0;31m    time = format_timestamp(at)\u001B[0m\n\u001B[0m    ^\u001B[0m\n\u001B[0;31mIndentationError\u001B[0m\u001B[0;31m:\u001B[0m unexpected indent\n"
     ]
    }
   ],
   "source": [
    "?[name, time, mood] := *mood{name, at, mood @ 'NOW'}, \n",
    "                       time = format_timestamp(at)"
   ],
   "id": "93d42f6f7321eee4"
  },
  {
   "cell_type": "markdown",
   "metadata": {
    "ExecuteTime": {
     "start_time": "2023-08-30T03:59:24.792075Z"
    }
   },
   "source": [
    "You can put in facts with manual timestamps as before, so it is possible that your database contains facts about the future.\n",
    "Let's do just that. Instead of giving a mysterious string of numerals, you can use a string for the timestamp:"
   ],
   "id": "390d70c8396c8621"
  },
  {
   "cell_type": "code",
   "execution_count": 16,
   "metadata": {
    "ExecuteTime": {
     "start_time": "2023-08-30T05:12:15.707328Z"
    }
   },
   "outputs": [
    {
     "ename": "SyntaxError",
     "evalue": "invalid syntax (<ipython-input-16-f78cb7e4ad91>, line 2)",
     "output_type": "error",
     "traceback": [
      "\u001B[0;36m  File \u001B[0;32m\"<ipython-input-16-f78cb7e4ad91>\"\u001B[0;36m, line \u001B[0;32m2\u001B[0m\n\u001B[0;31m    :put mood {name, at => mood}\u001B[0m\n\u001B[0m    ^\u001B[0m\n\u001B[0;31mSyntaxError\u001B[0m\u001B[0;31m:\u001B[0m invalid syntax\n"
     ]
    }
   ],
   "source": [
    "?[name, at, mood] <- [['me', '2030-01-01T00:00:00.000+00:00', 'hopeful']]\n",
    ":put mood {name, at => mood}"
   ],
   "id": "a45c559bd80c94f3"
  },
  {
   "cell_type": "markdown",
   "metadata": {
    "ExecuteTime": {
     "start_time": "2023-08-30T03:59:24.805500Z"
    }
   },
   "source": [
    "Since this is in the future, it shouldn't affect `NOW`:"
   ],
   "id": "d30a27743b3d8433"
  },
  {
   "cell_type": "code",
   "execution_count": 17,
   "metadata": {
    "ExecuteTime": {
     "start_time": "2023-08-30T05:12:15.722918Z"
    }
   },
   "outputs": [
    {
     "ename": "IndentationError",
     "evalue": "unexpected indent (<ipython-input-17-acc3aceecab7>, line 2)",
     "output_type": "error",
     "traceback": [
      "\u001B[0;36m  File \u001B[0;32m\"<ipython-input-17-acc3aceecab7>\"\u001B[0;36m, line \u001B[0;32m2\u001B[0m\n\u001B[0;31m    time = format_timestamp(at)\u001B[0m\n\u001B[0m    ^\u001B[0m\n\u001B[0;31mIndentationError\u001B[0m\u001B[0;31m:\u001B[0m unexpected indent\n"
     ]
    }
   ],
   "source": [
    "?[name, time, mood] := *mood{name, at, mood @ 'NOW'}, \n",
    "                       time = format_timestamp(at)"
   ],
   "id": "2978f37fa7a776a1"
  },
  {
   "cell_type": "markdown",
   "metadata": {
    "ExecuteTime": {
     "start_time": "2023-08-30T03:59:24.818928Z"
    }
   },
   "source": [
    "In this case, there is also `END` for the validity specification, meaning to extract facts at the end of time:"
   ],
   "id": "a38d62338dea4824"
  },
  {
   "cell_type": "code",
   "execution_count": 18,
   "metadata": {
    "ExecuteTime": {
     "start_time": "2023-08-30T05:12:15.737938Z"
    }
   },
   "outputs": [
    {
     "ename": "IndentationError",
     "evalue": "unexpected indent (<ipython-input-18-acc3aceecab7>, line 2)",
     "output_type": "error",
     "traceback": [
      "\u001B[0;36m  File \u001B[0;32m\"<ipython-input-18-acc3aceecab7>\"\u001B[0;36m, line \u001B[0;32m2\u001B[0m\n\u001B[0;31m    time = format_timestamp(at)\u001B[0m\n\u001B[0m    ^\u001B[0m\n\u001B[0;31mIndentationError\u001B[0m\u001B[0;31m:\u001B[0m unexpected indent\n"
     ]
    }
   ],
   "source": [
    "?[name, time, mood] := *mood{name, at, mood @ 'END'}, \n",
    "                       time = format_timestamp(at)"
   ],
   "id": "c85e2cb4c44f2957"
  },
  {
   "cell_type": "markdown",
   "metadata": {
    "ExecuteTime": {
     "start_time": "2023-08-30T03:59:24.832249Z"
    }
   },
   "source": [
    "Retraction at the current timestamp can be done with the string `RETRACT`:"
   ],
   "id": "5077a2719ed31f9f"
  },
  {
   "cell_type": "code",
   "execution_count": 19,
   "metadata": {
    "ExecuteTime": {
     "start_time": "2023-08-30T05:12:15.753713Z"
    }
   },
   "outputs": [
    {
     "ename": "SyntaxError",
     "evalue": "invalid syntax (<ipython-input-19-f78cb7e4ad91>, line 2)",
     "output_type": "error",
     "traceback": [
      "\u001B[0;36m  File \u001B[0;32m\"<ipython-input-19-f78cb7e4ad91>\"\u001B[0;36m, line \u001B[0;32m2\u001B[0m\n\u001B[0;31m    :put mood {name, at => mood}\u001B[0m\n\u001B[0m    ^\u001B[0m\n\u001B[0;31mSyntaxError\u001B[0m\u001B[0;31m:\u001B[0m invalid syntax\n"
     ]
    }
   ],
   "source": [
    "?[name, at, mood] <- [['me', 'RETRACT', '']]\n",
    ":put mood {name, at => mood}"
   ],
   "id": "bafbc3ab464367b2"
  },
  {
   "cell_type": "markdown",
   "metadata": {
    "ExecuteTime": {
     "start_time": "2023-08-30T03:59:24.845644Z"
    }
   },
   "source": [
    "Retraction placed in the future can also be done with stringy timestamps by prefixing with `~`:"
   ],
   "id": "1088aea37e334b72"
  },
  {
   "cell_type": "code",
   "execution_count": 20,
   "metadata": {
    "ExecuteTime": {
     "start_time": "2023-08-30T05:12:15.768983Z"
    }
   },
   "outputs": [
    {
     "ename": "SyntaxError",
     "evalue": "invalid syntax (<ipython-input-20-f78cb7e4ad91>, line 2)",
     "output_type": "error",
     "traceback": [
      "\u001B[0;36m  File \u001B[0;32m\"<ipython-input-20-f78cb7e4ad91>\"\u001B[0;36m, line \u001B[0;32m2\u001B[0m\n\u001B[0;31m    :put mood {name, at => mood}\u001B[0m\n\u001B[0m    ^\u001B[0m\n\u001B[0;31mSyntaxError\u001B[0m\u001B[0;31m:\u001B[0m invalid syntax\n"
     ]
    }
   ],
   "source": [
    "?[name, at, mood] <- [['me', '~9999-01-01T00:00:00.000+00:00', 'who cares']]\n",
    ":put mood {name, at => mood}"
   ],
   "id": "f1af59cee2ba9f8e"
  },
  {
   "cell_type": "markdown",
   "metadata": {
    "ExecuteTime": {
     "start_time": "2023-08-30T03:59:24.859119Z"
    }
   },
   "source": [
    "Now let's look at the complete history:"
   ],
   "id": "5502f867b90852b9"
  },
  {
   "cell_type": "code",
   "execution_count": 21,
   "metadata": {
    "ExecuteTime": {
     "start_time": "2023-08-30T05:12:15.785725Z"
    }
   },
   "outputs": [
    {
     "ename": "IndentationError",
     "evalue": "unexpected indent (<ipython-input-21-d3907a742b72>, line 2)",
     "output_type": "error",
     "traceback": [
      "\u001B[0;36m  File \u001B[0;32m\"<ipython-input-21-d3907a742b72>\"\u001B[0;36m, line \u001B[0;32m2\u001B[0m\n\u001B[0;31m    time = format_timestamp(at),\u001B[0m\n\u001B[0m    ^\u001B[0m\n\u001B[0;31mIndentationError\u001B[0m\u001B[0;31m:\u001B[0m unexpected indent\n"
     ]
    }
   ],
   "source": [
    "?[name, time, is_assert, mood] := *mood{name, at, mood}, \n",
    "                                  time = format_timestamp(at), \n",
    "                                  is_assert = to_bool(at)"
   ],
   "id": "1b7af2e107e3b64d"
  },
  {
   "cell_type": "markdown",
   "metadata": {
    "ExecuteTime": {
     "start_time": "2023-08-30T03:59:24.872425Z"
    }
   },
   "source": [
    "This time-travel facility is much faster than what you get if you try to implement it directly with Datalog: see the [note](releases/v0.4.md) for more details. Some further technical details of time travel is discussed in its own [chapter](timetravel.rst)."
   ],
   "id": "ff33c546bd42131"
  },
  {
   "cell_type": "code",
   "execution_count": 22,
   "metadata": {
    "ExecuteTime": {
     "start_time": "2023-08-30T05:12:15.812584Z"
    }
   },
   "outputs": [
    {
     "ename": "SyntaxError",
     "evalue": "invalid syntax (<ipython-input-22-33bbb141e2d6>, line 1)",
     "output_type": "error",
     "traceback": [
      "\u001B[0;36m  File \u001B[0;32m\"<ipython-input-22-33bbb141e2d6>\"\u001B[0;36m, line \u001B[0;32m1\u001B[0m\n\u001B[0;31m    ::remove mood, hos\u001B[0m\n\u001B[0m    ^\u001B[0m\n\u001B[0;31mSyntaxError\u001B[0m\u001B[0;31m:\u001B[0m invalid syntax\n"
     ]
    }
   ],
   "source": [
    "::remove mood, hos"
   ],
   "id": "b8a0585ffef9e094"
  },
  {
   "cell_type": "markdown",
   "metadata": {
    "ExecuteTime": {
     "start_time": "2023-08-30T03:59:24.885817Z"
    }
   },
   "source": [
    "## Extended example: the air routes dataset\n",
    "\n",
    "Now you have a basic understanding of using the various constructs of Cozo, let's deal with a small real-world dataset, with about 3700 nodes and 57000 edges.\n",
    "\n",
    "The data we are going to use, and many examples that we will present, are adapted from the book [Practical Gremlin](https://kelvinlawrence.net/book/Gremlin-Graph-Guide.html). Gremlin is an imperative query language for graphs, a very different take compared to Datalog.\n",
    "\n",
    "First, let's create the stored relations we want (wrapping queries in braces allows you to execute several queries together atomically):"
   ],
   "id": "a47881217c1e0874"
  },
  {
   "cell_type": "code",
   "execution_count": null,
   "metadata": {
    "ExecuteTime": {
     "start_time": "2023-08-30T03:55:39.405236Z"
    }
   },
   "outputs": [],
   "source": [
    "{:create airport {\n",
    "    code: String \n",
    "    => \n",
    "    icao: String, \n",
    "    desc: String, \n",
    "    region: String, \n",
    "    runways: Int, \n",
    "    longest: Float, \n",
    "    elev: Float, \n",
    "    country: String, \n",
    "    city: String, \n",
    "    lat: Float, \n",
    "    lon: Float\n",
    "}}\n",
    "{:create country {\n",
    "    code: String\n",
    "    =>\n",
    "    desc: String\n",
    "}}\n",
    "{:create continent {\n",
    "    code: String\n",
    "    =>\n",
    "    desc: String\n",
    "}}\n",
    "{:create contain { entity: String, contained: String }}\n",
    "{:create route { fr: String, to: String => dist: Float }}"
   ],
   "id": "459cc4aba38608dc"
  },
  {
   "cell_type": "markdown",
   "metadata": {
    "ExecuteTime": {
     "start_time": "2023-08-30T03:59:24.899076Z"
    }
   },
   "source": [
    "The next command applies only if you are using Jupyter notebooks: it downloads a JSON file containing the data and imports it into the database.\n",
    "The commented out line shows how to do the same thing with a local file. If you are using the Cozo WASM interface, click the \"Import from URL\" or the \"Import from File\" icon,\n",
    "and paste in the address."
   ],
   "id": "d11075d10c314535"
  },
  {
   "cell_type": "code",
   "execution_count": null,
   "metadata": {
    "ExecuteTime": {
     "start_time": "2023-08-30T03:55:39.406238Z"
    }
   },
   "outputs": [],
   "source": [
    "%cozo_import_remote_file 'https://raw.githubusercontent.com/cozodb/cozo/dev/cozo-core/tests/air-routes.json'\n",
    "# %cozo_import_local_file '../../cozo/cozo-core/tests/air-routes.json'"
   ],
   "id": "6447eb3d1810980c"
  },
  {
   "cell_type": "markdown",
   "metadata": {
    "ExecuteTime": {
     "start_time": "2023-08-30T03:59:24.912312Z"
    }
   },
   "source": [
    "If you are using the `cozo repl` command line, the command to use instead is simply\n",
    "\n",
    "```\n",
    "%import https://raw.githubusercontent.com/cozodb/cozo/dev/cozo-core/tests/air-routes.json\n",
    "```\n",
    "\n",
    "You can replace the URL with the path to a local file as well. Other environments also have ways to do the same thing: refer to the respective documentations.\n",
    "\n",
    "If you feel that the above is too much magic, we will show you the \"hard way\" of importing the same data at the end of this tutorial. For now let's move on.\n",
    "\n",
    "Let's verify all the relations we want are there:"
   ],
   "id": "e35245ea624a4afd"
  },
  {
   "cell_type": "code",
   "execution_count": null,
   "metadata": {
    "ExecuteTime": {
     "start_time": "2023-08-30T03:55:39.407107Z"
    }
   },
   "outputs": [],
   "source": [
    "::relations"
   ],
   "id": "d956545654861bf1"
  },
  {
   "cell_type": "markdown",
   "metadata": {
    "ExecuteTime": {
     "start_time": "2023-08-30T03:59:24.925655Z"
    }
   },
   "source": [
    "While we are at it, let's lock all these tables to prevent accidentally changing their contents:"
   ],
   "id": "2e1bd33198db0d78"
  },
  {
   "cell_type": "code",
   "execution_count": null,
   "metadata": {
    "ExecuteTime": {
     "start_time": "2023-08-30T03:55:39.408061Z"
    }
   },
   "outputs": [],
   "source": [
    "::access_level read_only airport, contain, continent, country, route"
   ],
   "id": "818d49c394e3341b"
  },
  {
   "cell_type": "markdown",
   "metadata": {
    "ExecuteTime": {
     "start_time": "2023-08-30T03:59:24.939046Z"
    }
   },
   "source": [
    "More information about what this does is explained in [this chapter](sysops.rst).\n",
    "\n",
    "Let's just look at some data. Start with airports:"
   ],
   "id": "95a20fff0830e826"
  },
  {
   "cell_type": "code",
   "execution_count": null,
   "metadata": {
    "ExecuteTime": {
     "start_time": "2023-08-30T03:55:39.409028Z"
    }
   },
   "outputs": [],
   "source": [
    "?[code, city, desc, region, runways, lat, lon] := *airport{code, city, desc, region, runways, lat, lon}\n",
    "    \n",
    ":limit 5"
   ],
   "id": "917fcbbcb3a1e810"
  },
  {
   "cell_type": "markdown",
   "metadata": {
    "ExecuteTime": {
     "start_time": "2023-08-30T03:59:24.952307Z"
    }
   },
   "source": [
    "Airports with the most runways:"
   ],
   "id": "f5d1c00e57599f25"
  },
  {
   "cell_type": "code",
   "execution_count": null,
   "metadata": {
    "ExecuteTime": {
     "start_time": "2023-08-30T03:55:39.410112Z"
    }
   },
   "outputs": [],
   "source": [
    "?[code, city, desc, region, runways, lat, lon] := *airport{code, city, desc, region, runways, lat, lon}\n",
    "\n",
    ":order -runways\n",
    ":limit 10"
   ],
   "id": "97395afe4ac87e32"
  },
  {
   "cell_type": "markdown",
   "metadata": {
    "ExecuteTime": {
     "start_time": "2023-08-30T03:59:24.965743Z"
    }
   },
   "source": [
    "How many airports are there in total?"
   ],
   "id": "17d36f6e1135241c"
  },
  {
   "cell_type": "code",
   "execution_count": null,
   "metadata": {
    "ExecuteTime": {
     "start_time": "2023-08-30T03:55:39.410981Z"
    }
   },
   "outputs": [],
   "source": [
    "?[count(code)] := *airport{code}"
   ],
   "id": "228368a38fc6028f"
  },
  {
   "cell_type": "markdown",
   "metadata": {
    "ExecuteTime": {
     "start_time": "2023-08-30T03:59:24.979011Z"
    }
   },
   "source": [
    "Let's get a distribution of the initials of the airport codes:"
   ],
   "id": "9b6d92540b3097d1"
  },
  {
   "cell_type": "code",
   "execution_count": null,
   "metadata": {
    "ExecuteTime": {
     "start_time": "2023-08-30T03:55:39.411832Z"
    }
   },
   "outputs": [],
   "source": [
    "?[count(initial), initial] := *airport{code}, initial = first(chars(code))\n",
    "\n",
    ":order initial"
   ],
   "id": "368f5355f8692947"
  },
  {
   "cell_type": "markdown",
   "metadata": {
    "ExecuteTime": {
     "start_time": "2023-08-30T03:59:24.992323Z"
    }
   },
   "source": [
    "More useful are the statistics of runways:"
   ],
   "id": "9138bf8aae4ae4ff"
  },
  {
   "cell_type": "code",
   "execution_count": null,
   "metadata": {
    "ExecuteTime": {
     "start_time": "2023-08-30T03:55:39.413231Z"
    }
   },
   "outputs": [],
   "source": [
    "?[count(r), count_unique(r), sum(r), min(r), max(r), mean(r), std_dev(r)] := \n",
    "    *airport{runways: r}"
   ],
   "id": "4f291d7331438ad4"
  },
  {
   "cell_type": "markdown",
   "metadata": {
    "ExecuteTime": {
     "start_time": "2023-08-30T03:59:25.005850Z"
    }
   },
   "source": [
    "Using `country`, we can find countries with no airports:"
   ],
   "id": "48336f0fd56830c7"
  },
  {
   "cell_type": "code",
   "execution_count": null,
   "metadata": {
    "ExecuteTime": {
     "start_time": "2023-08-30T03:55:39.414083Z"
    }
   },
   "outputs": [],
   "source": [
    "?[desc] := *country{code, desc}, not *airport{country: code}"
   ],
   "id": "8b8f6b8c1fc64ae5"
  },
  {
   "cell_type": "markdown",
   "metadata": {
    "ExecuteTime": {
     "start_time": "2023-08-30T03:59:25.019208Z"
    }
   },
   "source": [
    "The `route` relation by itself is rather boring:"
   ],
   "id": "ede85a8327c25bdc"
  },
  {
   "cell_type": "code",
   "execution_count": null,
   "metadata": {
    "ExecuteTime": {
     "start_time": "2023-08-30T03:55:39.414944Z"
    }
   },
   "outputs": [],
   "source": [
    "?[fr, to, dist] := *route{fr, to, dist}\n",
    "\n",
    ":limit 10"
   ],
   "id": "a35fc49ed2709aae"
  },
  {
   "cell_type": "markdown",
   "metadata": {
    "ExecuteTime": {
     "start_time": "2023-08-30T03:59:25.032825Z"
    }
   },
   "source": [
    "It just records the starting and ending airports of each route, together with the distance. This relation only becomes useful when used as a graph.\n",
    "\n",
    "Airports with no routes:"
   ],
   "id": "191ad8baea28df69"
  },
  {
   "cell_type": "code",
   "execution_count": null,
   "metadata": {
    "ExecuteTime": {
     "start_time": "2023-08-30T03:55:39.415772Z"
    }
   },
   "outputs": [],
   "source": [
    "?[code, desc] := *airport{code, desc}, not *route{fr: code}, not *route{to: code}"
   ],
   "id": "f70f9cdbe6b48049"
  },
  {
   "cell_type": "markdown",
   "metadata": {
    "ExecuteTime": {
     "start_time": "2023-08-30T03:59:25.046492Z"
    }
   },
   "source": [
    "Airports with the most out routes:"
   ],
   "id": "d2714abe6745800f"
  },
  {
   "cell_type": "code",
   "execution_count": null,
   "metadata": {
    "ExecuteTime": {
     "start_time": "2023-08-30T03:55:39.416865Z"
    }
   },
   "outputs": [],
   "source": [
    "route_count[fr, count(fr)] := *route{fr}\n",
    "?[code, n] := route_count[code, n]\n",
    "\n",
    ":sort -n\n",
    ":limit 5"
   ],
   "id": "4b9dcece0a39a456"
  },
  {
   "cell_type": "markdown",
   "metadata": {
    "ExecuteTime": {
     "start_time": "2023-08-30T03:59:25.060034Z"
    }
   },
   "source": [
    "How many routes are there from the European Union to the US?"
   ],
   "id": "84734746d84e3023"
  },
  {
   "cell_type": "code",
   "execution_count": null,
   "metadata": {
    "ExecuteTime": {
     "start_time": "2023-08-30T03:55:39.417692Z"
    }
   },
   "outputs": [],
   "source": [
    "routes[unique(r)] := *contain['EU', fr],\n",
    "                     *route{fr, to},\n",
    "                     *airport{code: to, country: 'US'},\n",
    "                     r = [fr, to]\n",
    "?[n] := routes[rs], n = length(rs)"
   ],
   "id": "112d7ea1227caf0d"
  },
  {
   "cell_type": "markdown",
   "metadata": {
    "ExecuteTime": {
     "start_time": "2023-08-30T03:59:25.073402Z"
    }
   },
   "source": [
    "How many airports are there in the US with routes from the EU?"
   ],
   "id": "857eec1e40c78d40"
  },
  {
   "cell_type": "code",
   "execution_count": null,
   "metadata": {
    "ExecuteTime": {
     "start_time": "2023-08-30T03:55:39.418544Z"
    }
   },
   "outputs": [],
   "source": [
    "?[count_unique(to)] := *contain['EU', fr],\n",
    "                       *route{fr, to},\n",
    "                       *airport{code: to, country: 'US'}\n"
   ],
   "id": "840d5e06df4fbe58"
  },
  {
   "cell_type": "markdown",
   "metadata": {
    "ExecuteTime": {
     "start_time": "2023-08-30T03:59:25.086879Z"
    }
   },
   "source": [
    "How many routes are there for each airport in London, UK?"
   ],
   "id": "86e46d0de9d8e5f6"
  },
  {
   "cell_type": "code",
   "execution_count": null,
   "metadata": {
    "ExecuteTime": {
     "start_time": "2023-08-30T03:55:39.419366Z"
    }
   },
   "outputs": [],
   "source": [
    "?[code, count(code)] := *airport{code, city: 'London', region: 'GB-ENG'}, *route{fr: code}"
   ],
   "id": "17c26032d5a6eba"
  },
  {
   "cell_type": "markdown",
   "metadata": {
    "ExecuteTime": {
     "start_time": "2023-08-30T03:59:25.099950Z"
    }
   },
   "source": [
    "We need to specify the region, because there is another city called London, not in the UK.\n",
    "\n",
    "How many airports are reachable from London, UK in two hops?"
   ],
   "id": "8f72286f885311e7"
  },
  {
   "cell_type": "code",
   "execution_count": null,
   "metadata": {
    "ExecuteTime": {
     "start_time": "2023-08-30T03:55:39.420180Z"
    }
   },
   "outputs": [],
   "source": [
    "lon_uk_airports[code] := *airport{code, city: 'London', region: 'GB-ENG'}\n",
    "one_hop[to] := lon_uk_airports[fr], *route{fr, to}, not lon_uk_airports[to];\n",
    "?[count_unique(a3)] := one_hop[a2], *route{fr: a2, to: a3}, not lon_uk_airports[a3];"
   ],
   "id": "42abbcc3e352d24c"
  },
  {
   "cell_type": "markdown",
   "metadata": {
    "ExecuteTime": {
     "start_time": "2023-08-30T03:59:25.113337Z"
    }
   },
   "source": [
    "What are the cities directly reachable from LGW (London Gatwick), but furthermost away?"
   ],
   "id": "18b02ecc97f93db9"
  },
  {
   "cell_type": "code",
   "execution_count": null,
   "metadata": {
    "ExecuteTime": {
     "start_time": "2023-08-30T03:55:39.420956Z"
    }
   },
   "outputs": [],
   "source": [
    "?[city, dist] := *route{fr: 'LGW', to, dist},\n",
    "                 *airport{code: to, city}\n",
    ":order -dist\n",
    ":limit 10"
   ],
   "id": "32c70caea727270"
  },
  {
   "cell_type": "markdown",
   "metadata": {
    "ExecuteTime": {
     "start_time": "2023-08-30T03:59:25.126948Z"
    }
   },
   "source": [
    "What airports are within 0.1 degrees of the Greenwich meridian?"
   ],
   "id": "9e7675198e6f6aa2"
  },
  {
   "cell_type": "code",
   "execution_count": null,
   "metadata": {
    "ExecuteTime": {
     "start_time": "2023-08-30T03:55:39.421786Z"
    }
   },
   "outputs": [],
   "source": [
    "?[code, desc, lon, lat] := *airport{lon, lat, code, desc}, lon > -0.1, lon < 0.1"
   ],
   "id": "f08c6dfebee27853"
  },
  {
   "cell_type": "markdown",
   "metadata": {
    "ExecuteTime": {
     "start_time": "2023-08-30T03:59:25.140307Z"
    }
   },
   "source": [
    "Airports in a box drawn around London Heathrow, UK:"
   ],
   "id": "deafe4fd327f2462"
  },
  {
   "cell_type": "code",
   "execution_count": null,
   "metadata": {
    "ExecuteTime": {
     "start_time": "2023-08-30T03:55:39.422783Z"
    }
   },
   "outputs": [],
   "source": [
    "h_box[lon, lat] := *airport{code: 'LHR', lon, lat}\n",
    "?[code, desc] := h_box[lhr_lon, lhr_lat], *airport{code, lon, lat, desc},\n",
    "                 abs(lhr_lon - lon) < 1, abs(lhr_lat - lat) < 1"
   ],
   "id": "27e58e78b218332e"
  },
  {
   "cell_type": "markdown",
   "metadata": {
    "ExecuteTime": {
     "start_time": "2023-08-30T03:59:25.153758Z"
    }
   },
   "source": [
    "For some spherical geometry: what is the angle subtended by SFO and NRT on the surface of the earth?"
   ],
   "id": "6acec63338f7d4f0"
  },
  {
   "cell_type": "code",
   "execution_count": null,
   "metadata": {
    "ExecuteTime": {
     "start_time": "2023-08-30T03:55:39.423618Z"
    }
   },
   "outputs": [],
   "source": [
    "?[deg_diff] := *airport{code: 'SFO', lat: a_lat, lon: a_lon},\n",
    "               *airport{code: 'NRT', lat: b_lat, lon: b_lon},\n",
    "               deg_diff = rad_to_deg(haversine_deg_input(a_lat, a_lon, b_lat, b_lon))"
   ],
   "id": "c2511633e931d84"
  },
  {
   "cell_type": "markdown",
   "metadata": {
    "ExecuteTime": {
     "start_time": "2023-08-30T03:59:25.167527Z"
    }
   },
   "source": [
    "We mentioned before that aggregations in Cozo are powerful. They are powerful because they can be used in recursions (some restrictions apply).\n",
    "\n",
    "Let's find the distance of the _shortest route_ between two airports. One wayis to enumerate all the routes between the two airports, and then apply `min` aggregation to the results. This cannot be implemented as stated, since the routes may contain cycles and hence there can be an infinite number of routes between two airports.\n",
    "\n",
    "Instead, think recursively. If we already have all the shortest routes between all nodes, we derive an _equation_ satisfied by the shortest route: the shortest route between `a` and `b` is either the distance of a direct route, or the sum of the shortest distance from `a` to `c` and the distance of a direct route from `c` to `d`. We apply our `min` aggregation to this recursive set instead.\n",
    "\n",
    "Write it out and it works. For exmaple, the shortest routes between the airports `LHR` and `YPO`:"
   ],
   "id": "ad4aa816217252a5"
  },
  {
   "cell_type": "code",
   "execution_count": null,
   "metadata": {
    "ExecuteTime": {
     "start_time": "2023-08-30T03:55:39.424477Z"
    }
   },
   "outputs": [],
   "source": [
    "shortest[b, min(dist)] := *route{fr: 'LHR', to: b, dist} \n",
    "                          # Start with the airport 'LHR', retrieve a direct route from 'LHR' to b\n",
    "\n",
    "shortest[b, min(dist)] := shortest[c, d1], # Start with an existing shortest route from 'LHR' to c\n",
    "                          *route{fr: c, to: b, dist: d2},  # Retrieve a direct route from c to b\n",
    "                          dist = d1 + d2 # Add the distances\n",
    "\n",
    "?[dist] := shortest['YPO', dist] # Extract the answer for 'YPO'. \n",
    "                                 # We chose it since it is the hardest airport to get to from 'LHR'."
   ],
   "id": "568d168669940ef7"
  },
  {
   "cell_type": "markdown",
   "metadata": {},
   "source": [
    "There is a caveat when you try to write similar queries. Say you try to write it in the following way (don't try to run it):\n",
    "\n",
    "```python\n",
    "shortest[a, b, min(dist)] := *route{fr: a, to: b, dist} \n",
    "shortest[a, b, min(dist)] := shortest[a, c, d1],\n",
    "                          *route{fr: c, to: b, dist: d2},\n",
    "                          dist = d1 + d2\n",
    "\n",
    "?[dist] := shortest['LHR', 'YPO', dist]\n",
    "```\n",
    "\n",
    "You will find that the query does not complete in a reasonable amount of time, despite it being equivalent to the original query. Why?\n",
    "\n",
    "In the changed query, you are asking the database to compute the all-pair shortest path, and then extract the answer to a particular shortest path. Normally Cozo would apply a technique called _magic set rewrite_ so that only the needed answer would be calculated. However, in the changed query the presence of the aggregation operator `min` prevents that. In this case, applying the rewrite to the variable `a` would still yield the correct answer, but rewriting in any other way would give complete nonsense, and in the more general case with recursive aggregations this is a can of worms.\n",
    "\n",
    "So as explained in the [chapter about execution](execution.rst), magic set rewrites are only applied to rules without aggregations or recursions for the moment, until we are sure of the exact conditions under which the rewrites are safe. So for now at least the database executes the query as written, computing the result of the `shortest` rule containing more than ten million rows (to be exact, 3700 * 3700 = 13,690,000 rows) first!\n",
    "\n",
    "The bottom line is, be mindful of the cardinality of the return sets of recursive rules."
   ],
   "id": "7724c5f1d72208d0"
  },
  {
   "cell_type": "markdown",
   "metadata": {
    "ExecuteTime": {
     "start_time": "2023-08-30T03:59:25.193561Z"
    }
   },
   "source": [
    "### A tour of graph algorithms\n",
    "\n",
    "Now let's investigate the graph using some graph algorithms.\n",
    "As we have mentioned before, the Cozo running in browsers through WASM does not have\n",
    "the graph algorithms module enabled, so to run the following examples you will \n",
    "need to use some other implementation (for example, [the Python one](https://github.com/cozodb/pycozo)).\n",
    "\n",
    "Since path-finding is such a common operation on graphs, Cozo has several fixed rules for that:"
   ],
   "id": "a96ae49b2c449377"
  },
  {
   "cell_type": "code",
   "execution_count": null,
   "metadata": {
    "ExecuteTime": {
     "start_time": "2023-08-30T03:55:39.425277Z"
    }
   },
   "outputs": [],
   "source": [
    "starting[] <- [['LHR']]\n",
    "goal[] <- [['YPO']]\n",
    "?[starting, goal, distance, path] <~ ShortestPathDijkstra(*route[], starting[], goal[])"
   ],
   "id": "c29a21a52f62cb24"
  },
  {
   "cell_type": "markdown",
   "metadata": {
    "ExecuteTime": {
     "start_time": "2023-08-30T03:59:25.206753Z"
    }
   },
   "source": [
    "Not only is it more efficient, but we also get a path for the shortest route.\n",
    "\n",
    "Not content with the shortest path, the following calculates ten the shortest paths:"
   ],
   "id": "5eb73ca5eeb22056"
  },
  {
   "cell_type": "code",
   "execution_count": null,
   "metadata": {
    "ExecuteTime": {
     "start_time": "2023-08-30T03:55:39.426207Z"
    }
   },
   "outputs": [],
   "source": [
    "starting[] <- [['LHR']]\n",
    "goal[] <- [['YPO']]\n",
    "?[starting, goal, distance, path] <~ KShortestPathYen(*route[], starting[], goal[], k: 10)"
   ],
   "id": "2f6d9187eff5caa6"
  },
  {
   "cell_type": "markdown",
   "metadata": {
    "ExecuteTime": {
     "start_time": "2023-08-30T03:59:25.220045Z"
    }
   },
   "source": [
    "If efficiency is really important to you, you can use the A* algorithm with a good heuristic function:"
   ],
   "id": "3ab57a6427b6d91d"
  },
  {
   "cell_type": "code",
   "execution_count": null,
   "metadata": {
    "ExecuteTime": {
     "start_time": "2023-08-30T03:55:39.427168Z"
    }
   },
   "outputs": [],
   "source": [
    "code_lat_lon[code, lat, lon] := *airport{code, lat, lon}\n",
    "starting[code, lat, lon] := code = 'LHR', *airport{code, lat, lon};\n",
    "goal[code, lat, lon] := code = 'YPO', *airport{code, lat, lon};\n",
    "?[] <~ ShortestPathAStar(*route[], \n",
    "                         code_lat_lon[node, lat1, lon1], \n",
    "                         starting[], \n",
    "                         goal[goal, lat2, lon2], \n",
    "                         heuristic: haversine_deg_input(lat1, lon1, lat2, lon2) * 3963);"
   ],
   "id": "1372476ce0d4b860"
  },
  {
   "cell_type": "markdown",
   "metadata": {
    "ExecuteTime": {
     "start_time": "2023-08-30T03:59:25.233311Z"
    }
   },
   "source": [
    "There's a lot more setup required in this case: we need to retrieve the latitudes and longitudes of airports and do processing on them first.\n",
    "The number `3963` above is the radius of the earth in miles.\n",
    "\n",
    "The most important airports, by PageRank:"
   ],
   "id": "d6b39882061e947c"
  },
  {
   "cell_type": "code",
   "execution_count": null,
   "metadata": {
    "ExecuteTime": {
     "start_time": "2023-08-30T03:55:39.427986Z"
    }
   },
   "outputs": [],
   "source": [
    "rank[code, score] <~ PageRank(*route[a, b])\n",
    "?[code, desc, score] := rank[code, score], *airport{code, desc}\n",
    "\n",
    ":limit 10;\n",
    ":order -score"
   ],
   "id": "9b7e677eaa2ec342"
  },
  {
   "cell_type": "markdown",
   "metadata": {
    "ExecuteTime": {
     "start_time": "2023-08-30T03:59:25.246692Z"
    }
   },
   "source": [
    "The following example takes a long time to run since it calculates the betweenness centrality: up to a few seconds, depending on your machine.\n",
    "Algorithms for calculating the betweenness centrality have high complexity."
   ],
   "id": "3c1f1ff083b9dca7"
  },
  {
   "cell_type": "code",
   "execution_count": null,
   "metadata": {
    "ExecuteTime": {
     "start_time": "2023-08-30T03:55:39.428631Z"
    }
   },
   "outputs": [],
   "source": [
    "centrality[code, score] <~ BetweennessCentrality(*route[a, b])\n",
    "?[code, desc, score] := centrality[code, score], *airport{code, desc}\n",
    "\n",
    ":limit 10;\n",
    ":order -score"
   ],
   "id": "597b2a27e5d4de9"
  },
  {
   "cell_type": "markdown",
   "metadata": {
    "ExecuteTime": {
     "start_time": "2023-08-30T03:59:25.259790Z"
    }
   },
   "source": [
    "These are the airports that, if disconnected from the network, cause the most disruption.\n",
    "As this example shows, some of the algorithms really struggle when you go beyond small or medium sized dataset.\n",
    "\n",
    "Community detection can collapse a graph into a _supergraph_.\n",
    "Here we store the result, since it has too many rows to display nicely:"
   ],
   "id": "f565f92f15844d05"
  },
  {
   "cell_type": "code",
   "execution_count": null,
   "metadata": {
    "ExecuteTime": {
     "start_time": "2023-08-30T03:55:39.429115Z"
    }
   },
   "outputs": [],
   "source": [
    "community[detailed_cluster, code] <~ CommunityDetectionLouvain(*route[a, b])\n",
    "?[code, cluster, detailed_cluster] := community[detailed_cluster, code], cluster = first(detailed_cluster)\n",
    "\n",
    ":replace community {code => cluster, detailed_cluster}"
   ],
   "id": "7cb9bc087aaf1528"
  },
  {
   "cell_type": "markdown",
   "metadata": {
    "ExecuteTime": {
     "start_time": "2023-08-30T03:59:25.273095Z"
    }
   },
   "source": [
    "We can look at the supernodes containing specific nodes. For example, the supernode for London Gatwick consists of mainly UK and other European airports, as you would expect:"
   ],
   "id": "3abaa02de8add9b6"
  },
  {
   "cell_type": "code",
   "execution_count": null,
   "metadata": {
    "ExecuteTime": {
     "start_time": "2023-08-30T03:55:39.429708Z"
    }
   },
   "outputs": [],
   "source": [
    "community[code] := *community{code: 'LGW', cluster}, *community{code, cluster}\n",
    "?[country, count(code)] := \n",
    "    community[code], \n",
    "    *airport{code, desc, country: country_code}, \n",
    "    *country{code: country_code, desc: country},\n",
    "\n",
    ":order -count(code)\n",
    ":limit 5"
   ],
   "id": "4b57ac2da3c05940"
  },
  {
   "cell_type": "markdown",
   "metadata": {
    "ExecuteTime": {
     "start_time": "2023-08-30T03:59:25.286105Z"
    }
   },
   "source": [
    "For `JFK` on the other hand, its supernode consists of mainly US airports:"
   ],
   "id": "89a949f30edcdac5"
  },
  {
   "cell_type": "code",
   "execution_count": null,
   "metadata": {
    "ExecuteTime": {
     "start_time": "2023-08-30T03:55:39.430432Z"
    }
   },
   "outputs": [],
   "source": [
    "community[code] := *community{code: 'JFK', cluster}, *community{code, cluster}\n",
    "?[country, count(code)] := \n",
    "    community[code], \n",
    "    *airport{code, desc, country: country_code}, \n",
    "    *country{code: country_code, desc: country},\n",
    "\n",
    ":order -count(code)\n",
    ":limit 5"
   ],
   "id": "cf518b3984160030"
  },
  {
   "cell_type": "markdown",
   "metadata": {
    "ExecuteTime": {
     "start_time": "2023-08-30T03:59:25.299371Z"
    }
   },
   "source": [
    "But it does not always work according to geography. For example, Frankfurt airport is in Germany:"
   ],
   "id": "97f94df5369ccb2e"
  },
  {
   "cell_type": "code",
   "execution_count": null,
   "metadata": {
    "ExecuteTime": {
     "start_time": "2023-08-30T03:55:39.431341Z"
    }
   },
   "outputs": [],
   "source": [
    "?[desc, country_desc] := *airport{code: 'FRA', desc, country: country_code}, *country{code: country_code, desc: country_desc}"
   ],
   "id": "973ab7c92dbef588"
  },
  {
   "cell_type": "markdown",
   "metadata": {
    "ExecuteTime": {
     "start_time": "2023-08-30T03:59:25.312570Z"
    }
   },
   "source": [
    "But its supernode:"
   ],
   "id": "81bffadbe4c27184"
  },
  {
   "cell_type": "code",
   "execution_count": null,
   "metadata": {
    "ExecuteTime": {
     "start_time": "2023-08-30T03:55:39.432017Z"
    }
   },
   "outputs": [],
   "source": [
    "community[code] := *community{code: 'FRA', cluster}, *community{code, cluster}\n",
    "?[country, count(code)] := \n",
    "    community[code], \n",
    "    *airport{code, desc, country: country_code}, \n",
    "    *country{code: country_code, desc: country},\n",
    "\n",
    ":order -count(code)\n",
    ":limit 5"
   ],
   "id": "9832af4e822f5bf5"
  },
  {
   "cell_type": "markdown",
   "metadata": {
    "ExecuteTime": {
     "start_time": "2023-08-30T03:59:25.325677Z"
    }
   },
   "source": [
    "Germany does not even appear in the top five. In fact, `FRA` is in the same supernode as `JFK`. What matters is the connectivity in the graph, not the geography.\n",
    "As another example:"
   ],
   "id": "ac9919cc44ad7cd4"
  },
  {
   "cell_type": "code",
   "execution_count": null,
   "metadata": {
    "ExecuteTime": {
     "start_time": "2023-08-30T03:55:39.432532Z"
    }
   },
   "outputs": [],
   "source": [
    "community[code] := *community{code: 'SIN', cluster}, *community{code, cluster}\n",
    "?[country, count(code)] := \n",
    "    community[code], \n",
    "    *airport{code, desc, country: country_code}, \n",
    "    *country{code: country_code, desc: country},\n",
    "\n",
    ":order -count(code)\n",
    ":limit 5"
   ],
   "id": "11e269e67f81cb51"
  },
  {
   "cell_type": "markdown",
   "metadata": {
    "ExecuteTime": {
     "start_time": "2023-08-30T03:59:25.338898Z"
    }
   },
   "source": [
    "You'd expect `SIN` to be a Chinese airport. Wrong:"
   ],
   "id": "6fda87e896c93d"
  },
  {
   "cell_type": "code",
   "execution_count": null,
   "metadata": {
    "ExecuteTime": {
     "start_time": "2023-08-30T03:55:39.433034Z"
    }
   },
   "outputs": [],
   "source": [
    "?[desc, country_desc] := *airport{code: 'SIN', desc, country: country_code}, *country{code: country_code, desc: country_desc}"
   ],
   "id": "e64ad6242193e903"
  },
  {
   "cell_type": "markdown",
   "metadata": {
    "ExecuteTime": {
     "start_time": "2023-08-30T03:59:25.352147Z"
    }
   },
   "source": [
    "Finally, let's collapse the `route` relation into `super_route`:"
   ],
   "id": "88ce860e2cadac91"
  },
  {
   "cell_type": "code",
   "execution_count": null,
   "metadata": {
    "ExecuteTime": {
     "start_time": "2023-08-30T03:55:39.433548Z"
    }
   },
   "outputs": [],
   "source": [
    "?[fr_cluster, to_cluster, count(dist), sum(dist)] := *route{fr, to, dist}, \n",
    "                                                     *community{code: fr, cluster: fr_cluster},\n",
    "                                                     *community{code: to, cluster: to_cluster}\n",
    ":replace super_route {fr_cluster, to_cluster => n_routes=count(dist), total_distance=sum(dist)}"
   ],
   "id": "fa58ee9eb51f39e5"
  },
  {
   "cell_type": "markdown",
   "metadata": {
    "ExecuteTime": {
     "start_time": "2023-08-30T03:59:25.366526Z"
    }
   },
   "source": [
    "As expected, the \"diagonals\" where `fr_cluster == to_cluster` are larger in the `super_route` graph:"
   ],
   "id": "e124a4c13df2d1f9"
  },
  {
   "cell_type": "code",
   "execution_count": null,
   "metadata": {
    "ExecuteTime": {
     "start_time": "2023-08-30T03:55:39.434068Z"
    }
   },
   "outputs": [],
   "source": [
    "?[fr_cluster, to_cluster, n_routes, total_distance] := *super_route{fr_cluster, to_cluster, n_routes, total_distance}, fr_cluster < 2"
   ],
   "id": "cad0002d1bac285e"
  },
  {
   "cell_type": "markdown",
   "metadata": {
    "ExecuteTime": {
     "start_time": "2023-08-30T03:59:25.379063Z"
    }
   },
   "source": [
    "Now the super graph is small enough that all analytics algorithms return instantly:"
   ],
   "id": "53a05a79c02ad15b"
  },
  {
   "cell_type": "code",
   "execution_count": null,
   "metadata": {
    "ExecuteTime": {
     "start_time": "2023-08-30T03:55:39.434564Z"
    }
   },
   "outputs": [],
   "source": [
    "?[cluster, score] <~ PageRank(*super_route[])\n",
    ":order -score\n",
    ":limit 5"
   ],
   "id": "7b9e81105d822b9e"
  },
  {
   "cell_type": "markdown",
   "metadata": {},
   "source": [
    "You can now go on to investigate the supernodes, give real-world interpretations to them, etc. \n",
    "For example, a naïve interpretation of the above PageRank result is that \n",
    "North America is (still) the most prosperous part of the world,\n",
    "followed by East Asia in the second place, South Asia in the third place, and Europe in the fourth place."
   ],
   "id": "53e68d89b64a180c"
  },
  {
   "cell_type": "markdown",
   "metadata": {
    "ExecuteTime": {
     "start_time": "2023-08-30T03:59:25.405129Z"
    }
   },
   "source": [
    "## Importing dataset the hard way\n",
    "\n",
    "Previously, we imported the air-routes dataset by using Python under the hood to download a specially-crafted JSON file and feed it to the database.\n",
    "Here we learn how to achieve the same effect by letting Cozo fetch and import a series of CSV files, without Python's help.\n",
    "\n",
    "Let's set the database magic up first:"
   ],
   "id": "7c1f789ee132a0d"
  },
  {
   "cell_type": "code",
   "execution_count": null,
   "metadata": {
    "ExecuteTime": {
     "start_time": "2023-08-30T03:59:25.405942Z"
    }
   },
   "outputs": [],
   "source": [
    "::access_level normal airport, contain, continent, country, route"
   ],
   "id": "3b066d7bf91ecc9e"
  },
  {
   "cell_type": "code",
   "execution_count": null,
   "metadata": {
    "ExecuteTime": {
     "start_time": "2023-08-30T03:55:39.435537Z"
    }
   },
   "outputs": [],
   "source": [
    "::remove airport, contain, continent, country, route, community, super_route"
   ],
   "id": "d30a71305c5de5e1"
  },
  {
   "cell_type": "markdown",
   "metadata": {
    "ExecuteTime": {
     "start_time": "2023-08-30T03:59:25.418132Z"
    }
   },
   "source": [
    "Next, some parameters to make life eaiser (the lines commented out do the same thing by processing local files):"
   ],
   "id": "5399122c8041fa2b"
  },
  {
   "cell_type": "code",
   "execution_count": null,
   "metadata": {
    "ExecuteTime": {
     "start_time": "2023-08-30T03:55:39.436020Z"
    }
   },
   "outputs": [],
   "source": [
    "%cozo_set AIR_ROUTES_NODES_URL 'https://raw.githubusercontent.com/cozodb/cozo/dev/cozo-core/tests/air-routes-latest-nodes.csv'\n",
    "%cozo_set AIR_ROUTES_EDGES_URL 'https://raw.githubusercontent.com/cozodb/cozo/dev/cozo-core/tests/air-routes-latest-edges.csv'\n",
    "# %cozo_set AIR_ROUTES_NODES_URL 'file://./../../cozo/cozo-core/tests/air-routes-latest-nodes.csv'\n",
    "# %cozo_set AIR_ROUTES_EDGES_URL 'file://./../../cozo/cozo-core/tests/air-routes-latest-edges.csv'"
   ],
   "id": "c358cb3f6c48a8f9"
  },
  {
   "cell_type": "markdown",
   "metadata": {
    "ExecuteTime": {
     "start_time": "2023-08-30T03:59:25.431502Z"
    }
   },
   "source": [
    "First, import the `airport` relation:"
   ],
   "id": "de05cb3efb76e8a7"
  },
  {
   "cell_type": "code",
   "execution_count": null,
   "metadata": {
    "ExecuteTime": {
     "start_time": "2023-08-30T03:55:39.436503Z"
    }
   },
   "outputs": [],
   "source": [
    "res[idx, label, typ, code, icao, desc, region, runways, longest, elev, country, city, lat, lon] <~\n",
    "    CsvReader(types: ['Int', 'Any', 'Any', 'Any', 'Any', 'Any', 'Any', 'Int?', 'Float?', 'Float?', 'Any', 'Any', 'Float?', 'Float?'],\n",
    "              url: $AIR_ROUTES_NODES_URL, \n",
    "              has_headers: true)\n",
    "\n",
    "?[code, icao, desc, region, runways, longest, elev, country, city, lat, lon] :=\n",
    "    res[idx, label, typ, code, icao, desc, region, runways, longest, elev, country, city, lat, lon],\n",
    "    label == 'airport'\n",
    "\n",
    ":replace airport {\n",
    "    code: String \n",
    "    => \n",
    "    icao: String, \n",
    "    desc: String, \n",
    "    region: String, \n",
    "    runways: Int, \n",
    "    longest: Float, \n",
    "    elev: Float, \n",
    "    country: String, \n",
    "    city: String, \n",
    "    lat: Float, \n",
    "    lon: Float\n",
    "}"
   ],
   "id": "cee8cba76026d5b1"
  },
  {
   "cell_type": "markdown",
   "metadata": {
    "ExecuteTime": {
     "start_time": "2023-08-30T03:59:25.444942Z"
    }
   },
   "source": [
    "The `CsvReader` utility downloads a CSV file from the internet and attempts to parse its content into a relation.\n",
    "When we store the relation, we specified types for the columns. The `code` column acts as a primary key for the `airport` stored relation.\n",
    "\n",
    "Next is `country`:"
   ],
   "id": "88aea832d08d3f55"
  },
  {
   "cell_type": "code",
   "execution_count": null,
   "metadata": {
    "ExecuteTime": {
     "start_time": "2023-08-30T03:55:39.436980Z"
    }
   },
   "outputs": [],
   "source": [
    "res[idx, label, typ, code, icao, desc] <~\n",
    "    CsvReader(types: ['Int', 'Any', 'Any', 'Any', 'Any', 'Any'],\n",
    "              url: $AIR_ROUTES_NODES_URL, \n",
    "              has_headers: true)\n",
    "?[code, desc] :=\n",
    "    res[idx, label, typ, code, icao, desc],\n",
    "    label == 'country'\n",
    "\n",
    ":replace country {\n",
    "    code: String\n",
    "    =>\n",
    "    desc: String\n",
    "}"
   ],
   "id": "e599e5b202e21ad7"
  },
  {
   "cell_type": "markdown",
   "metadata": {
    "ExecuteTime": {
     "start_time": "2023-08-30T03:59:25.458396Z"
    }
   },
   "source": [
    "`continent`:"
   ],
   "id": "6d274ffc02188a2e"
  },
  {
   "cell_type": "code",
   "execution_count": null,
   "metadata": {
    "ExecuteTime": {
     "start_time": "2023-08-30T03:55:39.437460Z"
    }
   },
   "outputs": [],
   "source": [
    "res[idx, label, typ, code, icao, desc] <~\n",
    "    CsvReader(types: ['Int', 'Any', 'Any', 'Any', 'Any', 'Any'],\n",
    "              url: $AIR_ROUTES_NODES_URL, \n",
    "              has_headers: true)\n",
    "?[idx, code, desc] :=\n",
    "    res[idx, label, typ, code, icao, desc],\n",
    "    label == 'continent'\n",
    "\n",
    ":replace continent {\n",
    "    code: String\n",
    "    =>\n",
    "    desc: String\n",
    "}"
   ],
   "id": "11208d998c1c85d0"
  },
  {
   "cell_type": "markdown",
   "metadata": {
    "ExecuteTime": {
     "start_time": "2023-08-30T03:59:25.471813Z"
    }
   },
   "source": [
    "We need to make a translation table for the indices the data use:"
   ],
   "id": "15f0a9606fc80d20"
  },
  {
   "cell_type": "code",
   "execution_count": null,
   "metadata": {
    "ExecuteTime": {
     "start_time": "2023-08-30T03:55:39.437949Z"
    }
   },
   "outputs": [],
   "source": [
    "res[idx, label, typ, code] <~\n",
    "    CsvReader(types: ['Int', 'Any', 'Any', 'Any'],\n",
    "              url: $AIR_ROUTES_NODES_URL, \n",
    "              has_headers: true)\n",
    "?[idx, code] :=\n",
    "    res[idx, label, typ, code],\n",
    "\n",
    ":replace idx2code { idx => code }"
   ],
   "id": "59066baa2125b2af"
  },
  {
   "cell_type": "markdown",
   "metadata": {
    "ExecuteTime": {
     "start_time": "2023-08-30T03:59:25.485270Z"
    }
   },
   "source": [
    "The `contain` relation contains information on the geographical inclusion of entities:"
   ],
   "id": "9def2c00a75f1f02"
  },
  {
   "cell_type": "code",
   "execution_count": null,
   "metadata": {
    "ExecuteTime": {
     "start_time": "2023-08-30T03:55:39.438547Z"
    }
   },
   "outputs": [],
   "source": [
    "res[] <~\n",
    "    CsvReader(types: ['Int', 'Int', 'Int', 'String'],\n",
    "              url: $AIR_ROUTES_EDGES_URL, \n",
    "              has_headers: true)\n",
    "?[entity, contained] :=\n",
    "    res[idx, fr_i, to_i, typ],\n",
    "    typ == 'contains',\n",
    "    *idx2code[fr_i, entity],\n",
    "    *idx2code[to_i, contained]\n",
    "\n",
    "\n",
    ":replace contain { entity: String, contained: String }"
   ],
   "id": "2ef004aa4cc9f780"
  },
  {
   "cell_type": "markdown",
   "metadata": {
    "ExecuteTime": {
     "start_time": "2023-08-30T03:59:25.498590Z"
    }
   },
   "source": [
    "Finally, the `route`s between the airports. This relation is much larger than the rest and contains about 60k rows:"
   ],
   "id": "3efd698d83db292e"
  },
  {
   "cell_type": "code",
   "execution_count": null,
   "metadata": {
    "ExecuteTime": {
     "start_time": "2023-08-30T03:55:39.439058Z"
    }
   },
   "outputs": [],
   "source": [
    "res[] <~\n",
    "    CsvReader(types: ['Int', 'Int', 'Int', 'String', 'Float?'],\n",
    "              url: $AIR_ROUTES_EDGES_URL, \n",
    "              has_headers: true)\n",
    "?[fr, to, dist] :=\n",
    "    res[idx, fr_i, to_i, typ, dist],\n",
    "    typ == 'route',\n",
    "    *idx2code[fr_i, fr],\n",
    "    *idx2code[to_i, to]\n",
    "\n",
    ":replace route { fr: String, to: String => dist: Float }"
   ],
   "id": "efdfc9c118e91e85"
  },
  {
   "cell_type": "markdown",
   "metadata": {
    "ExecuteTime": {
     "start_time": "2023-08-30T03:59:25.512009Z"
    }
   },
   "source": [
    "We no longer need the `idx2code` relation:"
   ],
   "id": "1a01f956d8e00a51"
  },
  {
   "cell_type": "code",
   "execution_count": null,
   "metadata": {
    "ExecuteTime": {
     "start_time": "2023-08-30T03:55:39.439572Z"
    }
   },
   "outputs": [],
   "source": [
    "::remove idx2code"
   ],
   "id": "2ea117d085db2df1"
  },
  {
   "cell_type": "markdown",
   "metadata": {
    "ExecuteTime": {
     "start_time": "2023-08-30T03:59:25.525604Z"
    }
   },
   "source": [
    "Let's verify all the relations we want are there:"
   ],
   "id": "764a5fd65d6c662f"
  },
  {
   "cell_type": "code",
   "execution_count": null,
   "metadata": {
    "ExecuteTime": {
     "start_time": "2023-08-30T03:55:39.440108Z"
    }
   },
   "outputs": [],
   "source": [
    "::relations"
   ],
   "id": "bbff0abfa1db87f7"
  },
  {
   "cell_type": "markdown",
   "metadata": {},
   "source": [
    "That's it for the tutorial!"
   ],
   "id": "35932294516507e9"
  }
 ],
 "metadata": {
  "kernelspec": {
   "display_name": "Python 2",
   "language": "python",
   "name": "python2"
  },
  "language_info": {
   "codemirror_mode": {
    "name": "ipython",
    "version": 2
   },
   "file_extension": ".py",
   "mimetype": "text/x-python",
   "name": "python",
   "nbconvert_exporter": "python",
   "pygments_lexer": "ipython2",
   "version": "2.7.18"
  }
 },
 "nbformat": 4,
 "nbformat_minor": 5
}
